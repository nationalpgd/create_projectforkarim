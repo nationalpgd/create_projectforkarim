{
 "cells": [
  {
   "cell_type": "markdown",
   "id": "46a0c36a",
   "metadata": {},
   "source": [
    "**Import libraries**"
   ]
  },
  {
   "cell_type": "code",
   "execution_count": 1,
   "id": "d1d1235c",
   "metadata": {
    "tags": []
   },
   "outputs": [],
   "source": [
    "import pandas as pd\n",
    "import numpy as np\n",
    "import seaborn as sns\n",
    "import matplotlib.pyplot as plt    \n",
    "import plotly.express as px\n",
    "%matplotlib inline   "
   ]
  },
  {
   "cell_type": "markdown",
   "id": "65260aad",
   "metadata": {},
   "source": [
    "**Load dataset**"
   ]
  },
  {
   "cell_type": "code",
   "execution_count": 2,
   "id": "4de9fc1a",
   "metadata": {
    "tags": []
   },
   "outputs": [],
   "source": [
    "df = pd.read_csv(\"PEA18.csv\")"
   ]
  },
  {
   "cell_type": "markdown",
   "id": "391e59e4",
   "metadata": {},
   "source": [
    "## Exploratory data analysis"
   ]
  },
  {
   "cell_type": "markdown",
   "id": "a11c8f08",
   "metadata": {},
   "source": [
    "Displaying first 5 observations of the dataset."
   ]
  },
  {
   "cell_type": "code",
   "execution_count": 3,
   "id": "582088bf",
   "metadata": {
    "tags": []
   },
   "outputs": [
    {
     "data": {
      "text/html": [
       "<div>\n",
       "<style scoped>\n",
       "    .dataframe tbody tr th:only-of-type {\n",
       "        vertical-align: middle;\n",
       "    }\n",
       "\n",
       "    .dataframe tbody tr th {\n",
       "        vertical-align: top;\n",
       "    }\n",
       "\n",
       "    .dataframe thead th {\n",
       "        text-align: right;\n",
       "    }\n",
       "</style>\n",
       "<table border=\"1\" class=\"dataframe\">\n",
       "  <thead>\n",
       "    <tr style=\"text-align: right;\">\n",
       "      <th></th>\n",
       "      <th>STATISTIC Label</th>\n",
       "      <th>Year</th>\n",
       "      <th>Country</th>\n",
       "      <th>Sex</th>\n",
       "      <th>Origin or Destination</th>\n",
       "      <th>UNIT</th>\n",
       "      <th>VALUE</th>\n",
       "    </tr>\n",
       "  </thead>\n",
       "  <tbody>\n",
       "    <tr>\n",
       "      <th>0</th>\n",
       "      <td>Estimated Migration (Persons in April)</td>\n",
       "      <td>1987</td>\n",
       "      <td>United Kingdom (1)</td>\n",
       "      <td>Both sexes</td>\n",
       "      <td>Net migration</td>\n",
       "      <td>Thousand</td>\n",
       "      <td>-13.7</td>\n",
       "    </tr>\n",
       "    <tr>\n",
       "      <th>1</th>\n",
       "      <td>Estimated Migration (Persons in April)</td>\n",
       "      <td>1987</td>\n",
       "      <td>United Kingdom (1)</td>\n",
       "      <td>Both sexes</td>\n",
       "      <td>Emigrants: All destinations</td>\n",
       "      <td>Thousand</td>\n",
       "      <td>21.8</td>\n",
       "    </tr>\n",
       "    <tr>\n",
       "      <th>2</th>\n",
       "      <td>Estimated Migration (Persons in April)</td>\n",
       "      <td>1987</td>\n",
       "      <td>United Kingdom (1)</td>\n",
       "      <td>Both sexes</td>\n",
       "      <td>Immigrants: All origins</td>\n",
       "      <td>Thousand</td>\n",
       "      <td>8.1</td>\n",
       "    </tr>\n",
       "    <tr>\n",
       "      <th>3</th>\n",
       "      <td>Estimated Migration (Persons in April)</td>\n",
       "      <td>1987</td>\n",
       "      <td>United Kingdom (1)</td>\n",
       "      <td>Male</td>\n",
       "      <td>Net migration</td>\n",
       "      <td>Thousand</td>\n",
       "      <td>-9.0</td>\n",
       "    </tr>\n",
       "    <tr>\n",
       "      <th>4</th>\n",
       "      <td>Estimated Migration (Persons in April)</td>\n",
       "      <td>1987</td>\n",
       "      <td>United Kingdom (1)</td>\n",
       "      <td>Male</td>\n",
       "      <td>Emigrants: All destinations</td>\n",
       "      <td>Thousand</td>\n",
       "      <td>13.1</td>\n",
       "    </tr>\n",
       "  </tbody>\n",
       "</table>\n",
       "</div>"
      ],
      "text/plain": [
       "                          STATISTIC Label  Year             Country  \\\n",
       "0  Estimated Migration (Persons in April)  1987  United Kingdom (1)   \n",
       "1  Estimated Migration (Persons in April)  1987  United Kingdom (1)   \n",
       "2  Estimated Migration (Persons in April)  1987  United Kingdom (1)   \n",
       "3  Estimated Migration (Persons in April)  1987  United Kingdom (1)   \n",
       "4  Estimated Migration (Persons in April)  1987  United Kingdom (1)   \n",
       "\n",
       "          Sex        Origin or Destination      UNIT  VALUE  \n",
       "0  Both sexes                Net migration  Thousand  -13.7  \n",
       "1  Both sexes  Emigrants: All destinations  Thousand   21.8  \n",
       "2  Both sexes      Immigrants: All origins  Thousand    8.1  \n",
       "3        Male                Net migration  Thousand   -9.0  \n",
       "4        Male  Emigrants: All destinations  Thousand   13.1  "
      ]
     },
     "execution_count": 3,
     "metadata": {},
     "output_type": "execute_result"
    }
   ],
   "source": [
    "df.head()"
   ]
  },
  {
   "cell_type": "markdown",
   "id": "b91272a0",
   "metadata": {},
   "source": [
    "Displaying the bottom 5 rows "
   ]
  },
  {
   "cell_type": "code",
   "execution_count": 4,
   "id": "8aa72068",
   "metadata": {
    "tags": []
   },
   "outputs": [
    {
     "data": {
      "text/html": [
       "<div>\n",
       "<style scoped>\n",
       "    .dataframe tbody tr th:only-of-type {\n",
       "        vertical-align: middle;\n",
       "    }\n",
       "\n",
       "    .dataframe tbody tr th {\n",
       "        vertical-align: top;\n",
       "    }\n",
       "\n",
       "    .dataframe thead th {\n",
       "        text-align: right;\n",
       "    }\n",
       "</style>\n",
       "<table border=\"1\" class=\"dataframe\">\n",
       "  <thead>\n",
       "    <tr style=\"text-align: right;\">\n",
       "      <th></th>\n",
       "      <th>STATISTIC Label</th>\n",
       "      <th>Year</th>\n",
       "      <th>Country</th>\n",
       "      <th>Sex</th>\n",
       "      <th>Origin or Destination</th>\n",
       "      <th>UNIT</th>\n",
       "      <th>VALUE</th>\n",
       "    </tr>\n",
       "  </thead>\n",
       "  <tbody>\n",
       "    <tr>\n",
       "      <th>2659</th>\n",
       "      <td>Estimated Migration (Persons in April)</td>\n",
       "      <td>2023</td>\n",
       "      <td>EU15 to EU27 (accession countries joined post ...</td>\n",
       "      <td>Male</td>\n",
       "      <td>Emigrants: All destinations</td>\n",
       "      <td>Thousand</td>\n",
       "      <td>3.6</td>\n",
       "    </tr>\n",
       "    <tr>\n",
       "      <th>2660</th>\n",
       "      <td>Estimated Migration (Persons in April)</td>\n",
       "      <td>2023</td>\n",
       "      <td>EU15 to EU27 (accession countries joined post ...</td>\n",
       "      <td>Male</td>\n",
       "      <td>Immigrants: All origins</td>\n",
       "      <td>Thousand</td>\n",
       "      <td>3.9</td>\n",
       "    </tr>\n",
       "    <tr>\n",
       "      <th>2661</th>\n",
       "      <td>Estimated Migration (Persons in April)</td>\n",
       "      <td>2023</td>\n",
       "      <td>EU15 to EU27 (accession countries joined post ...</td>\n",
       "      <td>Female</td>\n",
       "      <td>Net migration</td>\n",
       "      <td>Thousand</td>\n",
       "      <td>-0.2</td>\n",
       "    </tr>\n",
       "    <tr>\n",
       "      <th>2662</th>\n",
       "      <td>Estimated Migration (Persons in April)</td>\n",
       "      <td>2023</td>\n",
       "      <td>EU15 to EU27 (accession countries joined post ...</td>\n",
       "      <td>Female</td>\n",
       "      <td>Emigrants: All destinations</td>\n",
       "      <td>Thousand</td>\n",
       "      <td>5.2</td>\n",
       "    </tr>\n",
       "    <tr>\n",
       "      <th>2663</th>\n",
       "      <td>Estimated Migration (Persons in April)</td>\n",
       "      <td>2023</td>\n",
       "      <td>EU15 to EU27 (accession countries joined post ...</td>\n",
       "      <td>Female</td>\n",
       "      <td>Immigrants: All origins</td>\n",
       "      <td>Thousand</td>\n",
       "      <td>5.0</td>\n",
       "    </tr>\n",
       "  </tbody>\n",
       "</table>\n",
       "</div>"
      ],
      "text/plain": [
       "                             STATISTIC Label  Year  \\\n",
       "2659  Estimated Migration (Persons in April)  2023   \n",
       "2660  Estimated Migration (Persons in April)  2023   \n",
       "2661  Estimated Migration (Persons in April)  2023   \n",
       "2662  Estimated Migration (Persons in April)  2023   \n",
       "2663  Estimated Migration (Persons in April)  2023   \n",
       "\n",
       "                                                Country     Sex  \\\n",
       "2659  EU15 to EU27 (accession countries joined post ...    Male   \n",
       "2660  EU15 to EU27 (accession countries joined post ...    Male   \n",
       "2661  EU15 to EU27 (accession countries joined post ...  Female   \n",
       "2662  EU15 to EU27 (accession countries joined post ...  Female   \n",
       "2663  EU15 to EU27 (accession countries joined post ...  Female   \n",
       "\n",
       "            Origin or Destination      UNIT  VALUE  \n",
       "2659  Emigrants: All destinations  Thousand    3.6  \n",
       "2660      Immigrants: All origins  Thousand    3.9  \n",
       "2661                Net migration  Thousand   -0.2  \n",
       "2662  Emigrants: All destinations  Thousand    5.2  \n",
       "2663      Immigrants: All origins  Thousand    5.0  "
      ]
     },
     "execution_count": 4,
     "metadata": {},
     "output_type": "execute_result"
    }
   ],
   "source": [
    "df.tail()"
   ]
  },
  {
   "cell_type": "markdown",
   "id": "f56d2f42",
   "metadata": {},
   "source": [
    "Displaying number of features and observations of the dataset."
   ]
  },
  {
   "cell_type": "code",
   "execution_count": 5,
   "id": "240b345b",
   "metadata": {
    "tags": []
   },
   "outputs": [
    {
     "data": {
      "text/plain": [
       "(2664, 7)"
      ]
     },
     "execution_count": 5,
     "metadata": {},
     "output_type": "execute_result"
    }
   ],
   "source": [
    "df.shape"
   ]
  },
  {
   "cell_type": "markdown",
   "id": "615f7432",
   "metadata": {},
   "source": [
    "Data types of features in dataset."
   ]
  },
  {
   "cell_type": "code",
   "execution_count": 6,
   "id": "decac048",
   "metadata": {
    "tags": []
   },
   "outputs": [
    {
     "data": {
      "text/plain": [
       "STATISTIC Label           object\n",
       "Year                       int64\n",
       "Country                   object\n",
       "Sex                       object\n",
       "Origin or Destination     object\n",
       "UNIT                      object\n",
       "VALUE                    float64\n",
       "dtype: object"
      ]
     },
     "execution_count": 6,
     "metadata": {},
     "output_type": "execute_result"
    }
   ],
   "source": [
    "df.dtypes"
   ]
  },
  {
   "cell_type": "markdown",
   "id": "db6989fe",
   "metadata": {},
   "source": [
    "Displaying descriptive statistics"
   ]
  },
  {
   "cell_type": "code",
   "execution_count": 7,
   "id": "3f0a7267",
   "metadata": {
    "tags": []
   },
   "outputs": [
    {
     "data": {
      "text/html": [
       "<div>\n",
       "<style scoped>\n",
       "    .dataframe tbody tr th:only-of-type {\n",
       "        vertical-align: middle;\n",
       "    }\n",
       "\n",
       "    .dataframe tbody tr th {\n",
       "        vertical-align: top;\n",
       "    }\n",
       "\n",
       "    .dataframe thead th {\n",
       "        text-align: right;\n",
       "    }\n",
       "</style>\n",
       "<table border=\"1\" class=\"dataframe\">\n",
       "  <thead>\n",
       "    <tr style=\"text-align: right;\">\n",
       "      <th></th>\n",
       "      <th>Year</th>\n",
       "      <th>VALUE</th>\n",
       "    </tr>\n",
       "  </thead>\n",
       "  <tbody>\n",
       "    <tr>\n",
       "      <th>count</th>\n",
       "      <td>2664.000000</td>\n",
       "      <td>2104.000000</td>\n",
       "    </tr>\n",
       "    <tr>\n",
       "      <th>mean</th>\n",
       "      <td>2005.000000</td>\n",
       "      <td>8.943726</td>\n",
       "    </tr>\n",
       "    <tr>\n",
       "      <th>std</th>\n",
       "      <td>10.679083</td>\n",
       "      <td>15.513703</td>\n",
       "    </tr>\n",
       "    <tr>\n",
       "      <th>min</th>\n",
       "      <td>1987.000000</td>\n",
       "      <td>-43.900000</td>\n",
       "    </tr>\n",
       "    <tr>\n",
       "      <th>25%</th>\n",
       "      <td>1996.000000</td>\n",
       "      <td>1.800000</td>\n",
       "    </tr>\n",
       "    <tr>\n",
       "      <th>50%</th>\n",
       "      <td>2005.000000</td>\n",
       "      <td>4.700000</td>\n",
       "    </tr>\n",
       "    <tr>\n",
       "      <th>75%</th>\n",
       "      <td>2014.000000</td>\n",
       "      <td>10.200000</td>\n",
       "    </tr>\n",
       "    <tr>\n",
       "      <th>max</th>\n",
       "      <td>2023.000000</td>\n",
       "      <td>151.100000</td>\n",
       "    </tr>\n",
       "  </tbody>\n",
       "</table>\n",
       "</div>"
      ],
      "text/plain": [
       "              Year        VALUE\n",
       "count  2664.000000  2104.000000\n",
       "mean   2005.000000     8.943726\n",
       "std      10.679083    15.513703\n",
       "min    1987.000000   -43.900000\n",
       "25%    1996.000000     1.800000\n",
       "50%    2005.000000     4.700000\n",
       "75%    2014.000000    10.200000\n",
       "max    2023.000000   151.100000"
      ]
     },
     "execution_count": 7,
     "metadata": {},
     "output_type": "execute_result"
    }
   ],
   "source": [
    "df.describe()"
   ]
  },
  {
   "cell_type": "markdown",
   "id": "1c8fc548",
   "metadata": {},
   "source": [
    "Checking for duplicate values."
   ]
  },
  {
   "cell_type": "code",
   "execution_count": 8,
   "id": "9fa34d30",
   "metadata": {
    "tags": []
   },
   "outputs": [
    {
     "data": {
      "text/plain": [
       "0"
      ]
     },
     "execution_count": 8,
     "metadata": {},
     "output_type": "execute_result"
    }
   ],
   "source": [
    "df.duplicated().sum()"
   ]
  },
  {
   "cell_type": "markdown",
   "id": "e2622860",
   "metadata": {},
   "source": [
    "Counting available observations per feature."
   ]
  },
  {
   "cell_type": "code",
   "execution_count": 9,
   "id": "5ce3c10c",
   "metadata": {
    "tags": []
   },
   "outputs": [
    {
     "data": {
      "text/plain": [
       "STATISTIC Label          2664\n",
       "Year                     2664\n",
       "Country                  2664\n",
       "Sex                      2664\n",
       "Origin or Destination    2664\n",
       "UNIT                     2664\n",
       "VALUE                    2104\n",
       "dtype: int64"
      ]
     },
     "execution_count": 9,
     "metadata": {},
     "output_type": "execute_result"
    }
   ],
   "source": [
    "df.count()"
   ]
  },
  {
   "cell_type": "markdown",
   "id": "716bfcc4",
   "metadata": {},
   "source": [
    "Dropping irrelevant columns"
   ]
  },
  {
   "cell_type": "code",
   "execution_count": 10,
   "id": "73ddb4c3",
   "metadata": {
    "tags": []
   },
   "outputs": [
    {
     "data": {
      "text/html": [
       "<div>\n",
       "<style scoped>\n",
       "    .dataframe tbody tr th:only-of-type {\n",
       "        vertical-align: middle;\n",
       "    }\n",
       "\n",
       "    .dataframe tbody tr th {\n",
       "        vertical-align: top;\n",
       "    }\n",
       "\n",
       "    .dataframe thead th {\n",
       "        text-align: right;\n",
       "    }\n",
       "</style>\n",
       "<table border=\"1\" class=\"dataframe\">\n",
       "  <thead>\n",
       "    <tr style=\"text-align: right;\">\n",
       "      <th></th>\n",
       "      <th>Year</th>\n",
       "      <th>Country</th>\n",
       "      <th>Sex</th>\n",
       "      <th>Origin or Destination</th>\n",
       "      <th>VALUE</th>\n",
       "    </tr>\n",
       "  </thead>\n",
       "  <tbody>\n",
       "    <tr>\n",
       "      <th>0</th>\n",
       "      <td>1987</td>\n",
       "      <td>United Kingdom (1)</td>\n",
       "      <td>Both sexes</td>\n",
       "      <td>Net migration</td>\n",
       "      <td>-13.7</td>\n",
       "    </tr>\n",
       "    <tr>\n",
       "      <th>1</th>\n",
       "      <td>1987</td>\n",
       "      <td>United Kingdom (1)</td>\n",
       "      <td>Both sexes</td>\n",
       "      <td>Emigrants: All destinations</td>\n",
       "      <td>21.8</td>\n",
       "    </tr>\n",
       "    <tr>\n",
       "      <th>2</th>\n",
       "      <td>1987</td>\n",
       "      <td>United Kingdom (1)</td>\n",
       "      <td>Both sexes</td>\n",
       "      <td>Immigrants: All origins</td>\n",
       "      <td>8.1</td>\n",
       "    </tr>\n",
       "    <tr>\n",
       "      <th>3</th>\n",
       "      <td>1987</td>\n",
       "      <td>United Kingdom (1)</td>\n",
       "      <td>Male</td>\n",
       "      <td>Net migration</td>\n",
       "      <td>-9.0</td>\n",
       "    </tr>\n",
       "    <tr>\n",
       "      <th>4</th>\n",
       "      <td>1987</td>\n",
       "      <td>United Kingdom (1)</td>\n",
       "      <td>Male</td>\n",
       "      <td>Emigrants: All destinations</td>\n",
       "      <td>13.1</td>\n",
       "    </tr>\n",
       "  </tbody>\n",
       "</table>\n",
       "</div>"
      ],
      "text/plain": [
       "   Year             Country         Sex        Origin or Destination  VALUE\n",
       "0  1987  United Kingdom (1)  Both sexes                Net migration  -13.7\n",
       "1  1987  United Kingdom (1)  Both sexes  Emigrants: All destinations   21.8\n",
       "2  1987  United Kingdom (1)  Both sexes      Immigrants: All origins    8.1\n",
       "3  1987  United Kingdom (1)        Male                Net migration   -9.0\n",
       "4  1987  United Kingdom (1)        Male  Emigrants: All destinations   13.1"
      ]
     },
     "execution_count": 10,
     "metadata": {},
     "output_type": "execute_result"
    }
   ],
   "source": [
    "df = df.drop([\"STATISTIC Label\",\"UNIT\"], axis=1) \n",
    "df.head(5) "
   ]
  },
  {
   "cell_type": "markdown",
   "id": "9bf8b40f",
   "metadata": {},
   "source": [
    "Listing the countries "
   ]
  },
  {
   "cell_type": "code",
   "execution_count": 11,
   "id": "11cca7d2",
   "metadata": {
    "tags": []
   },
   "outputs": [
    {
     "name": "stdout",
     "output_type": "stream",
     "text": [
      "['United Kingdom (1)' 'United States' 'Canada' 'Australia'\n",
      " 'Other countries (23)' 'All countries' 'EU14 excl Irl (UK & Ireland)'\n",
      " 'EU15 to EU27 (accession countries joined post 2004)']\n"
     ]
    }
   ],
   "source": [
    "unique_countries = df['Country'].unique()\n",
    "print(unique_countries)"
   ]
  },
  {
   "cell_type": "markdown",
   "id": "4e04596e",
   "metadata": {},
   "source": [
    "EU15 to EU27 after the 2004 enlargement. The accession countries that joined post-2004 are Bulgaria and Romania\n"
   ]
  },
  {
   "cell_type": "code",
   "execution_count": 12,
   "id": "ebfe776e",
   "metadata": {
    "tags": []
   },
   "outputs": [
    {
     "name": "stdout",
     "output_type": "stream",
     "text": [
      "['Both sexes' 'Male' 'Female']\n"
     ]
    }
   ],
   "source": [
    "unique_sex = df['Sex'].unique()\n",
    "print(unique_sex)"
   ]
  },
  {
   "cell_type": "code",
   "execution_count": 13,
   "id": "287602e6",
   "metadata": {
    "tags": []
   },
   "outputs": [
    {
     "name": "stdout",
     "output_type": "stream",
     "text": [
      "The number of female immigrants is: 296\n"
     ]
    }
   ],
   "source": [
    "female_immigrants = df[(df['Sex'] == 'Female') & (df['Origin or Destination'] == 'Immigrants: All origins')]\n",
    "count_female_immigrants = len(female_immigrants)\n",
    "print(f\"The number of female immigrants is: {count_female_immigrants}\")"
   ]
  },
  {
   "cell_type": "markdown",
   "id": "6e1cbd37",
   "metadata": {},
   "source": [
    "Checking for missing values"
   ]
  },
  {
   "cell_type": "code",
   "execution_count": 14,
   "id": "9d577eaa",
   "metadata": {
    "tags": []
   },
   "outputs": [
    {
     "data": {
      "text/plain": [
       "Year                       0\n",
       "Country                    0\n",
       "Sex                        0\n",
       "Origin or Destination      0\n",
       "VALUE                    560\n",
       "dtype: int64"
      ]
     },
     "execution_count": 14,
     "metadata": {},
     "output_type": "execute_result"
    }
   ],
   "source": [
    "df.isnull().sum()"
   ]
  },
  {
   "cell_type": "code",
   "execution_count": 15,
   "id": "13f70d09",
   "metadata": {
    "tags": []
   },
   "outputs": [
    {
     "data": {
      "image/png": "[encoded data removed]",
      "text/plain": [
       "<Figure size 640x480 with 1 Axes>"
      ]
     },
     "metadata": {},
     "output_type": "display_data"
    }
   ],
   "source": [
    "missing_values = df.isnull().sum()\n",
    "missing_values.plot(kind='bar')\n",
    "plt.title('Missing Values in Each Column')\n",
    "plt.xlabel('Columns')\n",
    "plt.ylabel('Number of Missing Values')\n",
    "plt.show()\n"
   ]
  },
  {
   "cell_type": "markdown",
   "id": "61700c6d",
   "metadata": {},
   "source": [
    "Imputing the missing values with mean **check** "
   ]
  },
  {
   "cell_type": "code",
   "execution_count": 16,
   "id": "7d506781",
   "metadata": {
    "tags": []
   },
   "outputs": [
    {
     "name": "stdout",
     "output_type": "stream",
     "text": [
      "\n",
      "Missing values after imputation:\n",
      "Year                     0\n",
      "Country                  0\n",
      "Sex                      0\n",
      "Origin or Destination    0\n",
      "VALUE                    0\n",
      "dtype: int64\n"
     ]
    }
   ],
   "source": [
    "# Simple imputation with mean\n",
    "df['VALUE'].fillna(df['VALUE'].mean(), inplace=True)  # You can also use median instead of mean\n",
    "\n",
    "# Check for missing values after imputation\n",
    "missing_values_after_imputation = df.isnull().sum()\n",
    "print(\"\\nMissing values after imputation:\")\n",
    "print(missing_values_after_imputation)\n",
    "\n",
    "# Save the imputed dataset\n",
    "df.to_csv('imputed_dataset.csv', index=False)"
   ]
  },
  {
   "cell_type": "code",
   "execution_count": 17,
   "id": "6a500c77",
   "metadata": {
    "tags": []
   },
   "outputs": [
    {
     "data": {
      "text/plain": [
       "Year                     2664\n",
       "Country                  2664\n",
       "Sex                      2664\n",
       "Origin or Destination    2664\n",
       "VALUE                    2664\n",
       "dtype: int64"
      ]
     },
     "execution_count": 17,
     "metadata": {},
     "output_type": "execute_result"
    }
   ],
   "source": [
    "df.count()"
   ]
  },
  {
   "cell_type": "markdown",
   "id": "9b73108d",
   "metadata": {},
   "source": [
    "Detecting Outliers\n"
   ]
  },
  {
   "cell_type": "code",
   "execution_count": 18,
   "id": "29727f53",
   "metadata": {
    "tags": []
   },
   "outputs": [
    {
     "data": {
      "text/plain": [
       "<Axes: xlabel='Year'>"
      ]
     },
     "execution_count": 18,
     "metadata": {},
     "output_type": "execute_result"
    },
    {
     "data": {
      "image/png": "[encoded data removed]",
      "text/plain": [
       "<Figure size 640x480 with 1 Axes>"
      ]
     },
     "metadata": {},
     "output_type": "display_data"
    }
   ],
   "source": [
    "sns.boxplot(x=df[\"Year\"]) \n"
   ]
  },
  {
   "cell_type": "code",
   "execution_count": 19,
   "id": "15907535",
   "metadata": {
    "tags": []
   },
   "outputs": [
    {
     "data": {
      "text/plain": [
       "<Axes: xlabel='VALUE'>"
      ]
     },
     "execution_count": 19,
     "metadata": {},
     "output_type": "execute_result"
    },
    {
     "data": {
      "image/png": "[encoded data removed]",
      "text/plain": [
       "<Figure size 640x480 with 1 Axes>"
      ]
     },
     "metadata": {},
     "output_type": "display_data"
    }
   ],
   "source": [
    "sns.boxplot(x=df[\"VALUE\"]) "
   ]
  },
  {
   "cell_type": "code",
   "execution_count": 20,
   "id": "06e01e55",
   "metadata": {
    "tags": []
   },
   "outputs": [
    {
     "data": {
      "text/plain": [
       "<bound method DataFrame.info of       Year                                            Country         Sex  \\\n",
       "0     1987                                 United Kingdom (1)  Both sexes   \n",
       "1     1987                                 United Kingdom (1)  Both sexes   \n",
       "2     1987                                 United Kingdom (1)  Both sexes   \n",
       "3     1987                                 United Kingdom (1)        Male   \n",
       "4     1987                                 United Kingdom (1)        Male   \n",
       "...    ...                                                ...         ...   \n",
       "2659  2023  EU15 to EU27 (accession countries joined post ...        Male   \n",
       "2660  2023  EU15 to EU27 (accession countries joined post ...        Male   \n",
       "2661  2023  EU15 to EU27 (accession countries joined post ...      Female   \n",
       "2662  2023  EU15 to EU27 (accession countries joined post ...      Female   \n",
       "2663  2023  EU15 to EU27 (accession countries joined post ...      Female   \n",
       "\n",
       "            Origin or Destination  VALUE  \n",
       "0                   Net migration  -13.7  \n",
       "1     Emigrants: All destinations   21.8  \n",
       "2         Immigrants: All origins    8.1  \n",
       "3                   Net migration   -9.0  \n",
       "4     Emigrants: All destinations   13.1  \n",
       "...                           ...    ...  \n",
       "2659  Emigrants: All destinations    3.6  \n",
       "2660      Immigrants: All origins    3.9  \n",
       "2661                Net migration   -0.2  \n",
       "2662  Emigrants: All destinations    5.2  \n",
       "2663      Immigrants: All origins    5.0  \n",
       "\n",
       "[2664 rows x 5 columns]>"
      ]
     },
     "execution_count": 20,
     "metadata": {},
     "output_type": "execute_result"
    }
   ],
   "source": [
    "df.info"
   ]
  },
  {
   "cell_type": "code",
   "execution_count": 21,
   "id": "03e55564",
   "metadata": {
    "tags": []
   },
   "outputs": [],
   "source": [
    "df['Origin or Destination'] = df['Origin or Destination'].str.replace('Emigrants: All destinations', 'Emigrants')\n",
    "df['Origin or Destination'] = df['Origin or Destination'].str.replace('Immigrants: All origins', 'Immigrants')\n"
   ]
  },
  {
   "cell_type": "code",
   "execution_count": 22,
   "id": "a7aa784a",
   "metadata": {
    "tags": []
   },
   "outputs": [
    {
     "data": {
      "text/plain": [
       "False"
      ]
     },
     "execution_count": 22,
     "metadata": {},
     "output_type": "execute_result"
    }
   ],
   "source": [
    "df['Origin or Destination'].is_unique"
   ]
  },
  {
   "cell_type": "code",
   "execution_count": 23,
   "id": "2f3a9114",
   "metadata": {
    "tags": []
   },
   "outputs": [
    {
     "data": {
      "text/plain": [
       "object     3\n",
       "int64      1\n",
       "float64    1\n",
       "Name: count, dtype: int64"
      ]
     },
     "execution_count": 23,
     "metadata": {},
     "output_type": "execute_result"
    }
   ],
   "source": [
    "df.dtypes.value_counts()"
   ]
  },
  {
   "cell_type": "markdown",
   "id": "0994f3ed",
   "metadata": {},
   "source": [
    "Fixing the strings"
   ]
  },
  {
   "cell_type": "code",
   "execution_count": 24,
   "id": "97019444",
   "metadata": {
    "tags": []
   },
   "outputs": [
    {
     "name": "stdout",
     "output_type": "stream",
     "text": [
      "['United Kingdom', 'United States', 'Canada', 'Australia', 'Other countries', 'All countries', 'EU14 excl Irl', 'EU15 to EU27']\n"
     ]
    }
   ],
   "source": [
    "# Example list of strings\n",
    "countries = ['United Kingdom (1)', 'United States', 'Canada', 'Australia',\n",
    "             'Other countries (23)', 'All countries', 'EU14 excl Irl (UK & Ireland)',\n",
    "             'EU15 to EU27 (accession countries joined post 2004)']\n",
    "\n",
    "# Apply string operations to the list\n",
    "processed_countries = [country.split('(')[0].strip() if '(' in country else country for country in countries]\n",
    "\n",
    "# Print the processed list\n",
    "print(processed_countries)"
   ]
  },
  {
   "cell_type": "code",
   "execution_count": 25,
   "id": "48b64fe5",
   "metadata": {
    "tags": []
   },
   "outputs": [
    {
     "name": "stdout",
     "output_type": "stream",
     "text": [
      "      Year         Country         Sex Origin or Destination  VALUE\n",
      "0     1987  United Kingdom  Both sexes         Net migration  -13.7\n",
      "1     1987  United Kingdom  Both sexes             Emigrants   21.8\n",
      "2     1987  United Kingdom  Both sexes            Immigrants    8.1\n",
      "3     1987  United Kingdom        Male         Net migration   -9.0\n",
      "4     1987  United Kingdom        Male             Emigrants   13.1\n",
      "...    ...             ...         ...                   ...    ...\n",
      "2659  2023    EU15 to EU27        Male             Emigrants    3.6\n",
      "2660  2023    EU15 to EU27        Male            Immigrants    3.9\n",
      "2661  2023    EU15 to EU27      Female         Net migration   -0.2\n",
      "2662  2023    EU15 to EU27      Female             Emigrants    5.2\n",
      "2663  2023    EU15 to EU27      Female            Immigrants    5.0\n",
      "\n",
      "[2664 rows x 5 columns]\n"
     ]
    }
   ],
   "source": [
    "def clean_country_name(country):\n",
    "    return country.split('(')[0].strip()\n",
    "\n",
    "# Apply the function to the 'Country' column\n",
    "df['Country'] =df['Country'].apply(clean_country_name)\n",
    "\n",
    "# Print the updated dataset\n",
    "print(df)"
   ]
  },
  {
   "cell_type": "markdown",
   "id": "83f8d8ee",
   "metadata": {},
   "source": [
    "Renaming columns for better visibility"
   ]
  },
  {
   "cell_type": "code",
   "execution_count": 26,
   "id": "cc637b53",
   "metadata": {
    "tags": []
   },
   "outputs": [],
   "source": [
    "df = df.rename(columns={'Origin or Destination': 'Migration', 'VALUE': 'Value'})"
   ]
  },
  {
   "cell_type": "markdown",
   "id": "24ab72f1",
   "metadata": {},
   "source": [
    "Categorical Data: Country, sex and Migration. "
   ]
  },
  {
   "cell_type": "code",
   "execution_count": 27,
   "id": "4db20582",
   "metadata": {
    "tags": []
   },
   "outputs": [
    {
     "data": {
      "text/html": [
       "<div>\n",
       "<style scoped>\n",
       "    .dataframe tbody tr th:only-of-type {\n",
       "        vertical-align: middle;\n",
       "    }\n",
       "\n",
       "    .dataframe tbody tr th {\n",
       "        vertical-align: top;\n",
       "    }\n",
       "\n",
       "    .dataframe thead th {\n",
       "        text-align: right;\n",
       "    }\n",
       "</style>\n",
       "<table border=\"1\" class=\"dataframe\">\n",
       "  <thead>\n",
       "    <tr style=\"text-align: right;\">\n",
       "      <th></th>\n",
       "      <th>Year</th>\n",
       "      <th>Country</th>\n",
       "      <th>Sex</th>\n",
       "      <th>Migration</th>\n",
       "      <th>Value</th>\n",
       "    </tr>\n",
       "  </thead>\n",
       "  <tbody>\n",
       "    <tr>\n",
       "      <th>0</th>\n",
       "      <td>1987</td>\n",
       "      <td>United Kingdom</td>\n",
       "      <td>Both sexes</td>\n",
       "      <td>Net migration</td>\n",
       "      <td>-13.7</td>\n",
       "    </tr>\n",
       "    <tr>\n",
       "      <th>1</th>\n",
       "      <td>1987</td>\n",
       "      <td>United Kingdom</td>\n",
       "      <td>Both sexes</td>\n",
       "      <td>Emigrants</td>\n",
       "      <td>21.8</td>\n",
       "    </tr>\n",
       "    <tr>\n",
       "      <th>2</th>\n",
       "      <td>1987</td>\n",
       "      <td>United Kingdom</td>\n",
       "      <td>Both sexes</td>\n",
       "      <td>Immigrants</td>\n",
       "      <td>8.1</td>\n",
       "    </tr>\n",
       "    <tr>\n",
       "      <th>3</th>\n",
       "      <td>1987</td>\n",
       "      <td>United Kingdom</td>\n",
       "      <td>Male</td>\n",
       "      <td>Net migration</td>\n",
       "      <td>-9.0</td>\n",
       "    </tr>\n",
       "    <tr>\n",
       "      <th>4</th>\n",
       "      <td>1987</td>\n",
       "      <td>United Kingdom</td>\n",
       "      <td>Male</td>\n",
       "      <td>Emigrants</td>\n",
       "      <td>13.1</td>\n",
       "    </tr>\n",
       "    <tr>\n",
       "      <th>5</th>\n",
       "      <td>1987</td>\n",
       "      <td>United Kingdom</td>\n",
       "      <td>Male</td>\n",
       "      <td>Immigrants</td>\n",
       "      <td>4.1</td>\n",
       "    </tr>\n",
       "    <tr>\n",
       "      <th>6</th>\n",
       "      <td>1987</td>\n",
       "      <td>United Kingdom</td>\n",
       "      <td>Female</td>\n",
       "      <td>Net migration</td>\n",
       "      <td>-4.7</td>\n",
       "    </tr>\n",
       "    <tr>\n",
       "      <th>7</th>\n",
       "      <td>1987</td>\n",
       "      <td>United Kingdom</td>\n",
       "      <td>Female</td>\n",
       "      <td>Emigrants</td>\n",
       "      <td>8.7</td>\n",
       "    </tr>\n",
       "    <tr>\n",
       "      <th>8</th>\n",
       "      <td>1987</td>\n",
       "      <td>United Kingdom</td>\n",
       "      <td>Female</td>\n",
       "      <td>Immigrants</td>\n",
       "      <td>4.0</td>\n",
       "    </tr>\n",
       "    <tr>\n",
       "      <th>9</th>\n",
       "      <td>1987</td>\n",
       "      <td>United States</td>\n",
       "      <td>Both sexes</td>\n",
       "      <td>Net migration</td>\n",
       "      <td>-6.9</td>\n",
       "    </tr>\n",
       "  </tbody>\n",
       "</table>\n",
       "</div>"
      ],
      "text/plain": [
       "   Year         Country         Sex      Migration  Value\n",
       "0  1987  United Kingdom  Both sexes  Net migration  -13.7\n",
       "1  1987  United Kingdom  Both sexes      Emigrants   21.8\n",
       "2  1987  United Kingdom  Both sexes     Immigrants    8.1\n",
       "3  1987  United Kingdom        Male  Net migration   -9.0\n",
       "4  1987  United Kingdom        Male      Emigrants   13.1\n",
       "5  1987  United Kingdom        Male     Immigrants    4.1\n",
       "6  1987  United Kingdom      Female  Net migration   -4.7\n",
       "7  1987  United Kingdom      Female      Emigrants    8.7\n",
       "8  1987  United Kingdom      Female     Immigrants    4.0\n",
       "9  1987   United States  Both sexes  Net migration   -6.9"
      ]
     },
     "execution_count": 27,
     "metadata": {},
     "output_type": "execute_result"
    }
   ],
   "source": [
    "df.head(10)"
   ]
  },
  {
   "cell_type": "markdown",
   "id": "f2868793",
   "metadata": {
    "tags": []
   },
   "source": [
    "## Statistical analysis"
   ]
  },
  {
   "cell_type": "markdown",
   "id": "9172e98d",
   "metadata": {},
   "source": [
    "Descriptive statistic"
   ]
  },
  {
   "cell_type": "code",
   "execution_count": 28,
   "id": "85cff440",
   "metadata": {
    "tags": []
   },
   "outputs": [
    {
     "data": {
      "text/html": [
       "<div>\n",
       "<style scoped>\n",
       "    .dataframe tbody tr th:only-of-type {\n",
       "        vertical-align: middle;\n",
       "    }\n",
       "\n",
       "    .dataframe tbody tr th {\n",
       "        vertical-align: top;\n",
       "    }\n",
       "\n",
       "    .dataframe thead th {\n",
       "        text-align: right;\n",
       "    }\n",
       "</style>\n",
       "<table border=\"1\" class=\"dataframe\">\n",
       "  <thead>\n",
       "    <tr style=\"text-align: right;\">\n",
       "      <th></th>\n",
       "      <th>Year</th>\n",
       "      <th>Value</th>\n",
       "    </tr>\n",
       "  </thead>\n",
       "  <tbody>\n",
       "    <tr>\n",
       "      <th>count</th>\n",
       "      <td>2664.000000</td>\n",
       "      <td>2664.000000</td>\n",
       "    </tr>\n",
       "    <tr>\n",
       "      <th>mean</th>\n",
       "      <td>2005.000000</td>\n",
       "      <td>8.943726</td>\n",
       "    </tr>\n",
       "    <tr>\n",
       "      <th>std</th>\n",
       "      <td>10.679083</td>\n",
       "      <td>13.786357</td>\n",
       "    </tr>\n",
       "    <tr>\n",
       "      <th>min</th>\n",
       "      <td>1987.000000</td>\n",
       "      <td>-43.900000</td>\n",
       "    </tr>\n",
       "    <tr>\n",
       "      <th>25%</th>\n",
       "      <td>1996.000000</td>\n",
       "      <td>2.500000</td>\n",
       "    </tr>\n",
       "    <tr>\n",
       "      <th>50%</th>\n",
       "      <td>2005.000000</td>\n",
       "      <td>6.700000</td>\n",
       "    </tr>\n",
       "    <tr>\n",
       "      <th>75%</th>\n",
       "      <td>2014.000000</td>\n",
       "      <td>8.943726</td>\n",
       "    </tr>\n",
       "    <tr>\n",
       "      <th>max</th>\n",
       "      <td>2023.000000</td>\n",
       "      <td>151.100000</td>\n",
       "    </tr>\n",
       "  </tbody>\n",
       "</table>\n",
       "</div>"
      ],
      "text/plain": [
       "              Year        Value\n",
       "count  2664.000000  2664.000000\n",
       "mean   2005.000000     8.943726\n",
       "std      10.679083    13.786357\n",
       "min    1987.000000   -43.900000\n",
       "25%    1996.000000     2.500000\n",
       "50%    2005.000000     6.700000\n",
       "75%    2014.000000     8.943726\n",
       "max    2023.000000   151.100000"
      ]
     },
     "execution_count": 28,
     "metadata": {},
     "output_type": "execute_result"
    }
   ],
   "source": [
    "df.describe()"
   ]
  },
  {
   "cell_type": "markdown",
   "id": "79b4aa9a",
   "metadata": {},
   "source": [
    "Year:\n",
    "\n",
    "The dataset spans the years 1987 to 2023.\n",
    "The mean year is 2005, indicating a relatively even distribution of data across the years.\n",
    "The standard deviation of 10.68 suggests that the data points are relatively spread out around the mean year.\n",
    "Value:\n",
    "\n",
    "The 'Value' column represents some numerical measurements, with a mean value of approximately 8.94.\n",
    "The standard deviation of 13.79 indicates a significant amount of variation in the values.\n",
    "The minimum value of -43.9 and the maximum value of 151.1 suggest the presence of outliers, as the values are spread over a wide range.\n",
    "The median value of 6.7 is lower than the mean, indicating a potential right-skewed distribution, which aligns with the presence of outliers on the higher end."
   ]
  },
  {
   "cell_type": "code",
   "execution_count": 29,
   "id": "e13045b1",
   "metadata": {
    "tags": []
   },
   "outputs": [
    {
     "name": "stdout",
     "output_type": "stream",
     "text": [
      "               Country         Sex      Migration\n",
      "count             2664        2664           2664\n",
      "unique               8           3              3\n",
      "top     United Kingdom  Both sexes  Net migration\n",
      "freq               333         888            888\n"
     ]
    }
   ],
   "source": [
    "# Assuming 'df' is your DataFrame\n",
    "object_statistics = df.describe(include='O')\n",
    "print(object_statistics)\n"
   ]
  },
  {
   "cell_type": "markdown",
   "id": "54596dd5",
   "metadata": {},
   "source": [
    "The output shows the summary statistics for the object-type columns in your DataFrame. For the 'Country' column, there are 8 unique entries, with 'United Kingdom' being the most frequent entry (appearing 333 times). Similarly, the 'Sex' column has 3 unique entries, with 'Both sexes' being the most frequent (appearing 888 times). The 'Migration' column also has 3 unique entries, with 'Net migration' being the most frequent (appearing 888 times)."
   ]
  },
  {
   "cell_type": "code",
   "execution_count": null,
   "id": "1c041bb3",
   "metadata": {},
   "outputs": [],
   "source": []
  },
  {
   "cell_type": "code",
   "execution_count": 30,
   "id": "bf44876c",
   "metadata": {
    "tags": []
   },
   "outputs": [
    {
     "name": "stdout",
     "output_type": "stream",
     "text": [
      "8.943726235741446\n"
     ]
    }
   ],
   "source": [
    "mean_val= df['Value'].mean()\n",
    "print(mean_val)"
   ]
  },
  {
   "cell_type": "code",
   "execution_count": 31,
   "id": "1571bbf9",
   "metadata": {
    "tags": []
   },
   "outputs": [
    {
     "name": "stdout",
     "output_type": "stream",
     "text": [
      "0    8.943726\n",
      "Name: Value, dtype: float64\n"
     ]
    }
   ],
   "source": [
    "trend = df[\"Value\"].mode()\n",
    "print(trend)"
   ]
  },
  {
   "cell_type": "code",
   "execution_count": 32,
   "id": "7e0a9c6d",
   "metadata": {
    "tags": []
   },
   "outputs": [
    {
     "name": "stdout",
     "output_type": "stream",
     "text": [
      "0    8.943726\n",
      "Name: Value, dtype: float64\n"
     ]
    }
   ],
   "source": [
    "mode = df['Value'].mode()\n",
    "print(mode)"
   ]
  },
  {
   "cell_type": "markdown",
   "id": "09f949ad",
   "metadata": {},
   "source": [
    "Calculating the mean average of the'Value' variable indicates the average of 8.943726 for particular aspect of the migration dataset for a particular aspect of migration being measured. Since the migration of the dataset is divided by Net migration, immigrants and emigrants. It would be words to get mean of each of them."
   ]
  },
  {
   "cell_type": "markdown",
   "id": "cab54e74",
   "metadata": {},
   "source": [
    "Calculate the average of Net migration over the years for box sexes"
   ]
  },
  {
   "cell_type": "code",
   "execution_count": 33,
   "id": "2ba8156b",
   "metadata": {
    "tags": []
   },
   "outputs": [
    {
     "name": "stdout",
     "output_type": "stream",
     "text": [
      "Mean Net Migration: 4.4670841468845275\n"
     ]
    }
   ],
   "source": [
    "net_migration_data = df[df['Migration'] == 'Net migration']\n",
    "mean_net_migration = net_migration_data['Value'].mean()\n",
    "print(\"Mean Net Migration:\", mean_net_migration)"
   ]
  },
  {
   "cell_type": "markdown",
   "id": "124dac55",
   "metadata": {},
   "source": [
    "Calculate the average of Inmigration"
   ]
  },
  {
   "cell_type": "code",
   "execution_count": 34,
   "id": "0e126c29",
   "metadata": {
    "tags": []
   },
   "outputs": [
    {
     "name": "stdout",
     "output_type": "stream",
     "text": [
      "Mean Immigrants: 12.669378361250986\n"
     ]
    }
   ],
   "source": [
    "Immigrants_data = df[df['Migration'] == 'Immigrants']\n",
    "mean_Immigrants = Immigrants_data['Value'].mean()\n",
    "print(\"Mean Immigrants:\", mean_Immigrants)"
   ]
  },
  {
   "cell_type": "markdown",
   "id": "a82d4537",
   "metadata": {},
   "source": [
    "Calculate the average of Emigrants"
   ]
  },
  {
   "cell_type": "code",
   "execution_count": 35,
   "id": "58db7f0f",
   "metadata": {
    "tags": []
   },
   "outputs": [
    {
     "name": "stdout",
     "output_type": "stream",
     "text": [
      "Mean Emigrants: 9.694716199088822\n"
     ]
    }
   ],
   "source": [
    "Emigrants_data = df[df['Migration'] == 'Emigrants']\n",
    "mean_Emigrants = Emigrants_data['Value'].mean()\n",
    "print(\"Mean Emigrants:\", mean_Emigrants)"
   ]
  },
  {
   "cell_type": "code",
   "execution_count": 36,
   "id": "74458052",
   "metadata": {
    "tags": []
   },
   "outputs": [],
   "source": [
    "value_counts = df['Migration'].value_counts()\n",
    "relative_frequencies = value_counts / len(df)"
   ]
  },
  {
   "cell_type": "code",
   "execution_count": 37,
   "id": "5f0330fb",
   "metadata": {
    "tags": []
   },
   "outputs": [
    {
     "data": {
      "text/html": [
       "<div>\n",
       "<style scoped>\n",
       "    .dataframe tbody tr th:only-of-type {\n",
       "        vertical-align: middle;\n",
       "    }\n",
       "\n",
       "    .dataframe tbody tr th {\n",
       "        vertical-align: top;\n",
       "    }\n",
       "\n",
       "    .dataframe thead th {\n",
       "        text-align: right;\n",
       "    }\n",
       "</style>\n",
       "<table border=\"1\" class=\"dataframe\">\n",
       "  <thead>\n",
       "    <tr style=\"text-align: right;\">\n",
       "      <th></th>\n",
       "      <th>Migration</th>\n",
       "      <th>Frequency</th>\n",
       "      <th>Relative Frequency</th>\n",
       "    </tr>\n",
       "  </thead>\n",
       "  <tbody>\n",
       "    <tr>\n",
       "      <th>0</th>\n",
       "      <td>Net migration</td>\n",
       "      <td>888</td>\n",
       "      <td>0.333333</td>\n",
       "    </tr>\n",
       "    <tr>\n",
       "      <th>1</th>\n",
       "      <td>Emigrants</td>\n",
       "      <td>888</td>\n",
       "      <td>0.333333</td>\n",
       "    </tr>\n",
       "    <tr>\n",
       "      <th>2</th>\n",
       "      <td>Immigrants</td>\n",
       "      <td>888</td>\n",
       "      <td>0.333333</td>\n",
       "    </tr>\n",
       "  </tbody>\n",
       "</table>\n",
       "</div>"
      ],
      "text/plain": [
       "       Migration  Frequency  Relative Frequency\n",
       "0  Net migration        888            0.333333\n",
       "1      Emigrants        888            0.333333\n",
       "2     Immigrants        888            0.333333"
      ]
     },
     "execution_count": 37,
     "metadata": {},
     "output_type": "execute_result"
    }
   ],
   "source": [
    "subtable = pd.DataFrame({'Migration': value_counts.index, \n",
    "                         'Frequency': value_counts.values, \n",
    "                         'Relative Frequency': relative_frequencies.values})\n",
    "subtable"
   ]
  },
  {
   "cell_type": "code",
   "execution_count": 38,
   "id": "6061c236",
   "metadata": {
    "tags": []
   },
   "outputs": [
    {
     "data": {
      "text/html": [
       "<div>\n",
       "<style scoped>\n",
       "    .dataframe tbody tr th:only-of-type {\n",
       "        vertical-align: middle;\n",
       "    }\n",
       "\n",
       "    .dataframe tbody tr th {\n",
       "        vertical-align: top;\n",
       "    }\n",
       "\n",
       "    .dataframe thead th {\n",
       "        text-align: right;\n",
       "    }\n",
       "</style>\n",
       "<table border=\"1\" class=\"dataframe\">\n",
       "  <thead>\n",
       "    <tr style=\"text-align: right;\">\n",
       "      <th></th>\n",
       "      <th>Year</th>\n",
       "      <th>Country</th>\n",
       "      <th>Sex</th>\n",
       "      <th>Value</th>\n",
       "    </tr>\n",
       "    <tr>\n",
       "      <th>Migration</th>\n",
       "      <th></th>\n",
       "      <th></th>\n",
       "      <th></th>\n",
       "      <th></th>\n",
       "    </tr>\n",
       "  </thead>\n",
       "  <tbody>\n",
       "    <tr>\n",
       "      <th>Emigrants</th>\n",
       "      <td>1780440</td>\n",
       "      <td>United KingdomUnited KingdomUnited KingdomUnit...</td>\n",
       "      <td>Both sexesMaleFemaleBoth sexesMaleFemaleBoth s...</td>\n",
       "      <td>8608.907985</td>\n",
       "    </tr>\n",
       "    <tr>\n",
       "      <th>Immigrants</th>\n",
       "      <td>1780440</td>\n",
       "      <td>United KingdomUnited KingdomUnited KingdomUnit...</td>\n",
       "      <td>Both sexesMaleFemaleBoth sexesMaleFemaleBoth s...</td>\n",
       "      <td>11250.407985</td>\n",
       "    </tr>\n",
       "    <tr>\n",
       "      <th>Net migration</th>\n",
       "      <td>1780440</td>\n",
       "      <td>United KingdomUnited KingdomUnited KingdomUnit...</td>\n",
       "      <td>Both sexesMaleFemaleBoth sexesMaleFemaleBoth s...</td>\n",
       "      <td>3966.770722</td>\n",
       "    </tr>\n",
       "  </tbody>\n",
       "</table>\n",
       "</div>"
      ],
      "text/plain": [
       "                  Year                                            Country  \\\n",
       "Migration                                                                   \n",
       "Emigrants      1780440  United KingdomUnited KingdomUnited KingdomUnit...   \n",
       "Immigrants     1780440  United KingdomUnited KingdomUnited KingdomUnit...   \n",
       "Net migration  1780440  United KingdomUnited KingdomUnited KingdomUnit...   \n",
       "\n",
       "                                                             Sex         Value  \n",
       "Migration                                                                       \n",
       "Emigrants      Both sexesMaleFemaleBoth sexesMaleFemaleBoth s...   8608.907985  \n",
       "Immigrants     Both sexesMaleFemaleBoth sexesMaleFemaleBoth s...  11250.407985  \n",
       "Net migration  Both sexesMaleFemaleBoth sexesMaleFemaleBoth s...   3966.770722  "
      ]
     },
     "execution_count": 38,
     "metadata": {},
     "output_type": "execute_result"
    }
   ],
   "source": [
    "df_locations = df.groupby('Migration', axis = 0).sum()\n",
    "df_locations"
   ]
  },
  {
   "cell_type": "code",
   "execution_count": 39,
   "id": "f440e716",
   "metadata": {
    "tags": []
   },
   "outputs": [
    {
     "data": {
      "text/plain": [
       "Text(0.5, 1.0, 'Migration rate')"
      ]
     },
     "execution_count": 39,
     "metadata": {},
     "output_type": "execute_result"
    },
    {
     "data": {
      "image/png": "[encoded data removed]",
      "text/plain": [
       "<Figure size 640x480 with 1 Axes>"
      ]
     },
     "metadata": {},
     "output_type": "display_data"
    }
   ],
   "source": [
    "sns.boxplot(x = 'Migration', y ='Value', data=df, hue = 'Migration')\n",
    "plt.title('Migration rate', fontsize=15)"
   ]
  },
  {
   "cell_type": "code",
   "execution_count": 40,
   "id": "3e770c04",
   "metadata": {
    "tags": []
   },
   "outputs": [
    {
     "data": {
      "text/plain": [
       "Text(0.5, 1.0, 'Migration rate')"
      ]
     },
     "execution_count": 40,
     "metadata": {},
     "output_type": "execute_result"
    },
    {
     "data": {
      "image/png": "[encoded data removed]",
      "text/plain": [
       "<Figure size 640x480 with 1 Axes>"
      ]
     },
     "metadata": {},
     "output_type": "display_data"
    }
   ],
   "source": [
    "sns.boxplot(x = 'Migration', y ='Year', data=df, hue = 'Migration')\n",
    "plt.title('Migration rate', fontsize=15)"
   ]
  },
  {
   "cell_type": "code",
   "execution_count": 41,
   "id": "0845cd7c",
   "metadata": {
    "tags": []
   },
   "outputs": [],
   "source": [
    "df_locations.reset_index(inplace=True)"
   ]
  },
  {
   "cell_type": "code",
   "execution_count": 42,
   "id": "71e0781d",
   "metadata": {
    "tags": []
   },
   "outputs": [],
   "source": [
    "df_locations.columns = ['Migration','Year', 'Country', 'Sex', 'Value']"
   ]
  },
  {
   "cell_type": "code",
   "execution_count": 43,
   "id": "bc0e0198",
   "metadata": {
    "tags": []
   },
   "outputs": [
    {
     "data": {
      "image/png": "[encoded data removed]",
      "text/plain": [
       "<Figure size 1000x800 with 1 Axes>"
      ]
     },
     "metadata": {},
     "output_type": "display_data"
    }
   ],
   "source": [
    "plt.figure(figsize=(10, 8))\n",
    "ax = sns.barplot(x=\"Migration\", y=\"Value\", data=df_locations)"
   ]
  },
  {
   "cell_type": "code",
   "execution_count": 44,
   "id": "10ef55a1",
   "metadata": {
    "tags": []
   },
   "outputs": [
    {
     "data": {
      "image/png": "[encoded data removed]",
      "text/plain": [
       "<Figure size 640x480 with 1 Axes>"
      ]
     },
     "metadata": {},
     "output_type": "display_data"
    }
   ],
   "source": [
    "df_locations['Value'].plot(kind='pie', radius=1.2, autopct='%1.1f%%', shadow = True)\n",
    "\n",
    "plt.title('Immigration by category')\n",
    "plt.tight_layout()"
   ]
  },
  {
   "cell_type": "code",
   "execution_count": 45,
   "id": "d2c54e57",
   "metadata": {
    "tags": []
   },
   "outputs": [
    {
     "data": {
      "text/html": [
       "<div>\n",
       "<style scoped>\n",
       "    .dataframe tbody tr th:only-of-type {\n",
       "        vertical-align: middle;\n",
       "    }\n",
       "\n",
       "    .dataframe tbody tr th {\n",
       "        vertical-align: top;\n",
       "    }\n",
       "\n",
       "    .dataframe thead th {\n",
       "        text-align: right;\n",
       "    }\n",
       "</style>\n",
       "<table border=\"1\" class=\"dataframe\">\n",
       "  <thead>\n",
       "    <tr style=\"text-align: right;\">\n",
       "      <th></th>\n",
       "      <th>Year</th>\n",
       "      <th>Sex</th>\n",
       "      <th>Migration</th>\n",
       "      <th>Value</th>\n",
       "    </tr>\n",
       "    <tr>\n",
       "      <th>Country</th>\n",
       "      <th></th>\n",
       "      <th></th>\n",
       "      <th></th>\n",
       "      <th></th>\n",
       "    </tr>\n",
       "  </thead>\n",
       "  <tbody>\n",
       "    <tr>\n",
       "      <th>All countries</th>\n",
       "      <td>667665</td>\n",
       "      <td>Both sexesBoth sexesBoth sexesMaleMaleMaleFema...</td>\n",
       "      <td>Net migrationEmigrantsImmigrantsNet migrationE...</td>\n",
       "      <td>9414.974525</td>\n",
       "    </tr>\n",
       "    <tr>\n",
       "      <th>Australia</th>\n",
       "      <td>667665</td>\n",
       "      <td>Both sexesBoth sexesBoth sexesMaleMaleMaleFema...</td>\n",
       "      <td>Net migrationEmigrantsImmigrantsNet migrationE...</td>\n",
       "      <td>2093.964259</td>\n",
       "    </tr>\n",
       "    <tr>\n",
       "      <th>Canada</th>\n",
       "      <td>667665</td>\n",
       "      <td>Both sexesBoth sexesBoth sexesMaleMaleMaleFema...</td>\n",
       "      <td>Net migrationEmigrantsImmigrantsNet migrationE...</td>\n",
       "      <td>1865.464259</td>\n",
       "    </tr>\n",
       "    <tr>\n",
       "      <th>EU14 excl Irl</th>\n",
       "      <td>667665</td>\n",
       "      <td>Both sexesBoth sexesBoth sexesMaleMaleMaleFema...</td>\n",
       "      <td>Net migrationEmigrantsImmigrantsNet migrationE...</td>\n",
       "      <td>1469.100000</td>\n",
       "    </tr>\n",
       "    <tr>\n",
       "      <th>EU15 to EU27</th>\n",
       "      <td>667665</td>\n",
       "      <td>Both sexesBoth sexesBoth sexesMaleMaleMaleFema...</td>\n",
       "      <td>Net migrationEmigrantsImmigrantsNet migrationE...</td>\n",
       "      <td>2934.883650</td>\n",
       "    </tr>\n",
       "    <tr>\n",
       "      <th>Other countries</th>\n",
       "      <td>667665</td>\n",
       "      <td>Both sexesBoth sexesBoth sexesMaleMaleMaleFema...</td>\n",
       "      <td>Net migrationEmigrantsImmigrantsNet migrationE...</td>\n",
       "      <td>2833.400000</td>\n",
       "    </tr>\n",
       "    <tr>\n",
       "      <th>United Kingdom</th>\n",
       "      <td>667665</td>\n",
       "      <td>Both sexesBoth sexesBoth sexesMaleMaleMaleFema...</td>\n",
       "      <td>Net migrationEmigrantsImmigrantsNet migrationE...</td>\n",
       "      <td>2488.300000</td>\n",
       "    </tr>\n",
       "    <tr>\n",
       "      <th>United States</th>\n",
       "      <td>667665</td>\n",
       "      <td>Both sexesBoth sexesBoth sexesMaleMaleMaleFema...</td>\n",
       "      <td>Net migrationEmigrantsImmigrantsNet migrationE...</td>\n",
       "      <td>726.000000</td>\n",
       "    </tr>\n",
       "  </tbody>\n",
       "</table>\n",
       "</div>"
      ],
      "text/plain": [
       "                   Year                                                Sex  \\\n",
       "Country                                                                      \n",
       "All countries    667665  Both sexesBoth sexesBoth sexesMaleMaleMaleFema...   \n",
       "Australia        667665  Both sexesBoth sexesBoth sexesMaleMaleMaleFema...   \n",
       "Canada           667665  Both sexesBoth sexesBoth sexesMaleMaleMaleFema...   \n",
       "EU14 excl Irl    667665  Both sexesBoth sexesBoth sexesMaleMaleMaleFema...   \n",
       "EU15 to EU27     667665  Both sexesBoth sexesBoth sexesMaleMaleMaleFema...   \n",
       "Other countries  667665  Both sexesBoth sexesBoth sexesMaleMaleMaleFema...   \n",
       "United Kingdom   667665  Both sexesBoth sexesBoth sexesMaleMaleMaleFema...   \n",
       "United States    667665  Both sexesBoth sexesBoth sexesMaleMaleMaleFema...   \n",
       "\n",
       "                                                         Migration  \\\n",
       "Country                                                              \n",
       "All countries    Net migrationEmigrantsImmigrantsNet migrationE...   \n",
       "Australia        Net migrationEmigrantsImmigrantsNet migrationE...   \n",
       "Canada           Net migrationEmigrantsImmigrantsNet migrationE...   \n",
       "EU14 excl Irl    Net migrationEmigrantsImmigrantsNet migrationE...   \n",
       "EU15 to EU27     Net migrationEmigrantsImmigrantsNet migrationE...   \n",
       "Other countries  Net migrationEmigrantsImmigrantsNet migrationE...   \n",
       "United Kingdom   Net migrationEmigrantsImmigrantsNet migrationE...   \n",
       "United States    Net migrationEmigrantsImmigrantsNet migrationE...   \n",
       "\n",
       "                       Value  \n",
       "Country                       \n",
       "All countries    9414.974525  \n",
       "Australia        2093.964259  \n",
       "Canada           1865.464259  \n",
       "EU14 excl Irl    1469.100000  \n",
       "EU15 to EU27     2934.883650  \n",
       "Other countries  2833.400000  \n",
       "United Kingdom   2488.300000  \n",
       "United States     726.000000  "
      ]
     },
     "execution_count": 45,
     "metadata": {},
     "output_type": "execute_result"
    }
   ],
   "source": [
    "df_locations = df.groupby('Country', axis = 0).sum()\n",
    "df_locations"
   ]
  },
  {
   "cell_type": "code",
   "execution_count": 46,
   "id": "b7371841",
   "metadata": {
    "tags": []
   },
   "outputs": [
    {
     "data": {
      "image/png": "[encoded data removed]",
      "text/plain": [
       "<Figure size 1200x800 with 1 Axes>"
      ]
     },
     "metadata": {},
     "output_type": "display_data"
    }
   ],
   "source": [
    "plt.figure(figsize=(12, 8))\n",
    "sns.barplot(x='Country', y='Value', data=df, hue='Migration')\n",
    "plt.title('Migration per country', fontsize=15)\n",
    "plt.xlabel('Country', fontsize=12)\n",
    "plt.ylabel('Value', fontsize=12)\n",
    "plt.show()\n"
   ]
  },
  {
   "cell_type": "code",
   "execution_count": 47,
   "id": "7c0ef73a",
   "metadata": {
    "tags": []
   },
   "outputs": [
    {
     "data": {
      "image/png": "[encoded data removed]",
      "text/plain": [
       "<Figure size 1200x800 with 1 Axes>"
      ]
     },
     "metadata": {},
     "output_type": "display_data"
    }
   ],
   "source": [
    "import seaborn as sns\n",
    "import matplotlib.pyplot as plt\n",
    "\n",
    "plt.figure(figsize=(12, 8))\n",
    "sns.barplot(x='Sex', y='Value', data=df, hue='Sex')\n",
    "plt.title('Migration per country per sex', fontsize=15)\n",
    "plt.xlabel('Country', fontsize=12)\n",
    "plt.ylabel('Value', fontsize=12)\n",
    "plt.show()\n"
   ]
  },
  {
   "cell_type": "code",
   "execution_count": 48,
   "id": "8fc5080e",
   "metadata": {
    "tags": []
   },
   "outputs": [
    {
     "data": {
      "image/png": "[encoded data removed]",
      "text/plain": [
       "<Figure size 1200x800 with 1 Axes>"
      ]
     },
     "metadata": {},
     "output_type": "display_data"
    }
   ],
   "source": [
    "import matplotlib.pyplot as plt\n",
    "\n",
    "plt.figure(figsize=(12, 8))\n",
    "plt.hist(df['Value'], bins=10, alpha=0.7, color='skyblue')\n",
    "plt.title('Histogram of Migration Values', fontsize=15)\n",
    "plt.xlabel('Value', fontsize=12)\n",
    "plt.ylabel('Frequency', fontsize=12)\n",
    "plt.show()\n"
   ]
  },
  {
   "cell_type": "code",
   "execution_count": 49,
   "id": "8c43036f",
   "metadata": {
    "tags": []
   },
   "outputs": [
    {
     "name": "stdout",
     "output_type": "stream",
     "text": [
      "Year\n",
      "1987     346.355513\n",
      "1988     332.955513\n",
      "1989     368.055513\n",
      "1990     428.855513\n",
      "1991     454.755513\n",
      "1992     562.980608\n",
      "1993     515.780608\n",
      "1994     478.380608\n",
      "1995     490.380608\n",
      "1996     549.180608\n",
      "1997     591.380608\n",
      "1998     603.880608\n",
      "1999     628.180608\n",
      "2000     658.280608\n",
      "2001     703.380608\n",
      "2002     776.680608\n",
      "2003     721.580608\n",
      "2004     709.280608\n",
      "2005     837.387072\n",
      "2006    1023.587072\n",
      "2007    1369.687072\n",
      "2008     908.100000\n",
      "2009     589.000000\n",
      "2010     334.400000\n",
      "2011     426.100000\n",
      "2012     458.600000\n",
      "2013     501.400000\n",
      "2014     532.100000\n",
      "2015     607.100000\n",
      "2016     658.700000\n",
      "2017     762.700000\n",
      "2018     767.600000\n",
      "2019     776.800000\n",
      "2020     764.800000\n",
      "2021     592.400000\n",
      "2022     862.400000\n",
      "2023    1132.900000\n",
      "Name: Value, dtype: float64\n"
     ]
    }
   ],
   "source": [
    "migration_rate_per_year = df.groupby('Year')['Value'].sum()\n",
    "print(migration_rate_per_year)\n"
   ]
  },
  {
   "cell_type": "code",
   "execution_count": 50,
   "id": "9e0f04cf",
   "metadata": {
    "tags": []
   },
   "outputs": [
    {
     "data": {
      "image/png": "[encoded data removed]",
      "text/plain": [
       "<Figure size 1000x600 with 1 Axes>"
      ]
     },
     "metadata": {},
     "output_type": "display_data"
    }
   ],
   "source": [
    "import matplotlib.pyplot as plt\n",
    "\n",
    "migration_rate_per_year = df.groupby('Year')['Value'].sum()\n",
    "\n",
    "plt.figure(figsize=(10, 6))\n",
    "migration_rate_per_year.plot(kind='line', marker='o')\n",
    "plt.title('Migration Rate per Year', fontsize=15)\n",
    "plt.xlabel('Year', fontsize=12)\n",
    "plt.ylabel('Migration Rate', fontsize=12)\n",
    "plt.grid()\n",
    "plt.show()\n"
   ]
  },
  {
   "cell_type": "markdown",
   "id": "d1fc8ba5",
   "metadata": {},
   "source": [
    "Migration Assumptions: Ireland’s net migration rate has been fluctuating over the years. Between 2005 and 2010, Ireland experienced a positive net migration rate, which means that more people immigrated to Ireland than emigrated from it. The exact reasons for this trend are not clear, but it could be due to a combination of factors such as the country’s economic growth, job opportunities, and quality of life."
   ]
  },
  {
   "cell_type": "code",
   "execution_count": 51,
   "id": "1612f5c2",
   "metadata": {
    "tags": []
   },
   "outputs": [
    {
     "data": {
      "image/png": "[encoded data removed]",
      "text/plain": [
       "<Figure size 1000x600 with 1 Axes>"
      ]
     },
     "metadata": {},
     "output_type": "display_data"
    }
   ],
   "source": [
    "migration_rate_per_year = df.groupby('Country')['Value'].sum()\n",
    "\n",
    "plt.figure(figsize=(10, 6))\n",
    "migration_rate_per_year.plot(kind='line', marker='o')\n",
    "plt.title('Migration Rate per Year', fontsize=15)\n",
    "plt.xlabel('Country', fontsize=12)\n",
    "plt.ylabel('Migration Rate', fontsize=12)\n",
    "plt.grid()\n",
    "plt.show()"
   ]
  },
  {
   "cell_type": "code",
   "execution_count": 52,
   "id": "29c8c674",
   "metadata": {
    "tags": []
   },
   "outputs": [
    {
     "name": "stdout",
     "output_type": "stream",
     "text": [
      "Immigration per year:\n",
      "Year\n",
      "1987    150.080989\n",
      "1988    156.080989\n",
      "1989    178.380989\n",
      "1990    198.380989\n",
      "1991    198.280989\n",
      "1992    243.393536\n",
      "1993    219.493536\n",
      "1994    200.893536\n",
      "1995    205.393536\n",
      "1996    237.193536\n",
      "1997    258.593536\n",
      "1998    264.293536\n",
      "1999    276.093536\n",
      "2000    290.793536\n",
      "2001    316.893536\n",
      "2002    348.093536\n",
      "2003    320.693536\n",
      "2004    314.393536\n",
      "2005    391.962357\n",
      "2006    484.962357\n",
      "2007    658.062357\n",
      "2008    454.000000\n",
      "2009    294.700000\n",
      "2010    167.300000\n",
      "2011    213.200000\n",
      "2012    229.000000\n",
      "2013    250.700000\n",
      "2014    266.300000\n",
      "2015    303.600000\n",
      "2016    329.400000\n",
      "2017    381.400000\n",
      "2018    383.800000\n",
      "2019    388.400000\n",
      "2020    382.400000\n",
      "2021    296.200000\n",
      "2022    431.200000\n",
      "2023    566.400000\n",
      "Name: Value, dtype: float64\n",
      "Emigrants per year:\n",
      "Year\n",
      "1987    219.080989\n",
      "1988    281.880989\n",
      "1989    309.980989\n",
      "1990    267.080989\n",
      "1991    204.380989\n",
      "1992    213.993536\n",
      "1993    220.993536\n",
      "1994    219.793536\n",
      "1995    212.993536\n",
      "1996    205.193536\n",
      "1997    181.893536\n",
      "1998    194.793536\n",
      "1999    206.493536\n",
      "2000    186.993536\n",
      "2001    185.593536\n",
      "2002    182.693536\n",
      "2003    197.593536\n",
      "2004    186.493536\n",
      "2005    171.462357\n",
      "2006    197.762357\n",
      "2007    238.962357\n",
      "2008    196.800000\n",
      "2009    288.000000\n",
      "2010    276.800000\n",
      "2011    322.500000\n",
      "2012    332.300000\n",
      "2013    325.400000\n",
      "2014    299.800000\n",
      "2015    279.700000\n",
      "2016    264.600000\n",
      "2017    224.600000\n",
      "2018    206.400000\n",
      "2019    212.600000\n",
      "2020    203.800000\n",
      "2021    209.000000\n",
      "2022    224.800000\n",
      "2023    255.700000\n",
      "Name: Value, dtype: float64\n"
     ]
    }
   ],
   "source": [
    "immigration_per_year = df[df['Migration'] == 'Immigrants'].groupby('Year')['Value'].sum()\n",
    "migration_per_year = df[df['Migration'] == 'Emigrants'].groupby('Year')['Value'].sum()\n",
    "\n",
    "print(\"Immigration per year:\")\n",
    "print(immigration_per_year)\n",
    "\n",
    "print(\"Emigrants per year:\")\n",
    "print(migration_per_year)\n"
   ]
  },
  {
   "cell_type": "code",
   "execution_count": 53,
   "id": "046baf48",
   "metadata": {
    "tags": []
   },
   "outputs": [
    {
     "data": {
      "text/plain": [
       "Year           int64\n",
       "Country       object\n",
       "Sex           object\n",
       "Migration     object\n",
       "Value        float64\n",
       "dtype: object"
      ]
     },
     "execution_count": 53,
     "metadata": {},
     "output_type": "execute_result"
    }
   ],
   "source": [
    "df.dtypes"
   ]
  },
  {
   "cell_type": "code",
   "execution_count": 54,
   "id": "44034eb2",
   "metadata": {
    "tags": []
   },
   "outputs": [
    {
     "data": {
      "image/png": "[encoded data removed]",
      "text/plain": [
       "<Figure size 1200x800 with 1 Axes>"
      ]
     },
     "metadata": {},
     "output_type": "display_data"
    }
   ],
   "source": [
    "import numpy as np\n",
    "import matplotlib.pyplot as plt\n",
    "\n",
    "immigration_per_year = df[df['Migration'] == 'Immigrants'].groupby('Year')['Value'].sum()\n",
    "\n",
    "# Convert index and values to numpy arrays\n",
    "years = np.array(immigration_per_year.index)\n",
    "immigration_values = np.array(immigration_per_year.values)\n",
    "\n",
    "# Plotting the data\n",
    "plt.figure(figsize=(12, 8))\n",
    "plt.plot(years, immigration_values, marker='o')\n",
    "plt.title('Immigration per Year', fontsize=15)\n",
    "plt.xlabel('Year', fontsize=12)\n",
    "plt.ylabel('Immigration', fontsize=12)\n",
    "plt.show()\n"
   ]
  },
  {
   "cell_type": "code",
   "execution_count": 55,
   "id": "ac6dc440",
   "metadata": {
    "tags": []
   },
   "outputs": [
    {
     "data": {
      "image/png": "[encoded data removed]",
      "text/plain": [
       "<Figure size 1200x800 with 1 Axes>"
      ]
     },
     "metadata": {},
     "output_type": "display_data"
    }
   ],
   "source": [
    "import numpy as np\n",
    "import matplotlib.pyplot as plt\n",
    "\n",
    "immigration_per_year = df[df['Migration'] == 'Immigrants'].groupby('Country')['Value'].sum()\n",
    "\n",
    "# Convert index and values to numpy arrays\n",
    "years = np.array(immigration_per_year.index)\n",
    "immigration_values = np.array(immigration_per_year.values)\n",
    "\n",
    "# Plotting the data\n",
    "plt.figure(figsize=(12, 8))\n",
    "plt.plot(years, immigration_values, marker='o')\n",
    "plt.title('Immigration per Country', fontsize=15)\n",
    "plt.xlabel('Country', fontsize=12)\n",
    "plt.ylabel('Immigration', fontsize=12)\n",
    "plt.show()\n"
   ]
  },
  {
   "cell_type": "markdown",
   "id": "0f6c8220",
   "metadata": {},
   "source": [
    "## Discrete distribution"
   ]
  },
  {
   "cell_type": "markdown",
   "id": "cd64053f",
   "metadata": {},
   "source": [
    "\"Migration\" - if it represents the outcome of a migration event, with 1 indicating successful migration and 0 indicating unsuccessful migration.\n",
    "\"Value\" - if it represents the occurrence of a specific event, with 1 indicating the event occurred and 0 indicating it did not."
   ]
  },
  {
   "cell_type": "markdown",
   "id": "b7354bf0",
   "metadata": {},
   "source": [
    "\"Migration\": Typically, migration is considered a discrete variable because it involves the movement of individuals from one location to another. The data might represent the count or frequency of migration events, making it discrete in nature.\n",
    "\n",
    "\"Value\": The nature of the \"Value\" variable depends on its context and the specific data it represents. If the \"Value\" variable represents a continuous measurement, such as a numerical value indicating a quantity or magnitude, it would be considered a continuous variable. On the other hand, if \"Value\" represents a categorical variable with distinct categories or levels, it would be considered a discrete variable."
   ]
  },
  {
   "cell_type": "code",
   "execution_count": 56,
   "id": "e7c874cb",
   "metadata": {
    "tags": []
   },
   "outputs": [],
   "source": [
    "from scipy.stats import binom"
   ]
  },
  {
   "cell_type": "code",
   "execution_count": 57,
   "id": "0ce2dd93",
   "metadata": {
    "tags": []
   },
   "outputs": [
    {
     "data": {
      "text/html": [
       "<div>\n",
       "<style scoped>\n",
       "    .dataframe tbody tr th:only-of-type {\n",
       "        vertical-align: middle;\n",
       "    }\n",
       "\n",
       "    .dataframe tbody tr th {\n",
       "        vertical-align: top;\n",
       "    }\n",
       "\n",
       "    .dataframe thead th {\n",
       "        text-align: right;\n",
       "    }\n",
       "</style>\n",
       "<table border=\"1\" class=\"dataframe\">\n",
       "  <thead>\n",
       "    <tr style=\"text-align: right;\">\n",
       "      <th></th>\n",
       "      <th>Year</th>\n",
       "      <th>Country</th>\n",
       "      <th>Sex</th>\n",
       "      <th>Migration</th>\n",
       "      <th>Value</th>\n",
       "    </tr>\n",
       "  </thead>\n",
       "  <tbody>\n",
       "    <tr>\n",
       "      <th>0</th>\n",
       "      <td>1987</td>\n",
       "      <td>United Kingdom</td>\n",
       "      <td>Both sexes</td>\n",
       "      <td>Net migration</td>\n",
       "      <td>-13.7</td>\n",
       "    </tr>\n",
       "    <tr>\n",
       "      <th>1</th>\n",
       "      <td>1987</td>\n",
       "      <td>United Kingdom</td>\n",
       "      <td>Both sexes</td>\n",
       "      <td>Emigrants</td>\n",
       "      <td>21.8</td>\n",
       "    </tr>\n",
       "    <tr>\n",
       "      <th>2</th>\n",
       "      <td>1987</td>\n",
       "      <td>United Kingdom</td>\n",
       "      <td>Both sexes</td>\n",
       "      <td>Immigrants</td>\n",
       "      <td>8.1</td>\n",
       "    </tr>\n",
       "    <tr>\n",
       "      <th>3</th>\n",
       "      <td>1987</td>\n",
       "      <td>United Kingdom</td>\n",
       "      <td>Male</td>\n",
       "      <td>Net migration</td>\n",
       "      <td>-9.0</td>\n",
       "    </tr>\n",
       "    <tr>\n",
       "      <th>4</th>\n",
       "      <td>1987</td>\n",
       "      <td>United Kingdom</td>\n",
       "      <td>Male</td>\n",
       "      <td>Emigrants</td>\n",
       "      <td>13.1</td>\n",
       "    </tr>\n",
       "  </tbody>\n",
       "</table>\n",
       "</div>"
      ],
      "text/plain": [
       "   Year         Country         Sex      Migration  Value\n",
       "0  1987  United Kingdom  Both sexes  Net migration  -13.7\n",
       "1  1987  United Kingdom  Both sexes      Emigrants   21.8\n",
       "2  1987  United Kingdom  Both sexes     Immigrants    8.1\n",
       "3  1987  United Kingdom        Male  Net migration   -9.0\n",
       "4  1987  United Kingdom        Male      Emigrants   13.1"
      ]
     },
     "execution_count": 57,
     "metadata": {},
     "output_type": "execute_result"
    }
   ],
   "source": [
    "df.head()"
   ]
  },
  {
   "cell_type": "code",
   "execution_count": 58,
   "id": "9894aa31",
   "metadata": {
    "tags": []
   },
   "outputs": [],
   "source": [
    "value_counts = df['Sex'].value_counts()\n",
    "relative_frequencies = value_counts / len(df)"
   ]
  },
  {
   "cell_type": "code",
   "execution_count": 59,
   "id": "721871bc",
   "metadata": {
    "tags": []
   },
   "outputs": [
    {
     "data": {
      "text/html": [
       "<div>\n",
       "<style scoped>\n",
       "    .dataframe tbody tr th:only-of-type {\n",
       "        vertical-align: middle;\n",
       "    }\n",
       "\n",
       "    .dataframe tbody tr th {\n",
       "        vertical-align: top;\n",
       "    }\n",
       "\n",
       "    .dataframe thead th {\n",
       "        text-align: right;\n",
       "    }\n",
       "</style>\n",
       "<table border=\"1\" class=\"dataframe\">\n",
       "  <thead>\n",
       "    <tr style=\"text-align: right;\">\n",
       "      <th></th>\n",
       "      <th>Sex</th>\n",
       "      <th>Frequency</th>\n",
       "      <th>Relative Frequency</th>\n",
       "    </tr>\n",
       "  </thead>\n",
       "  <tbody>\n",
       "    <tr>\n",
       "      <th>0</th>\n",
       "      <td>Both sexes</td>\n",
       "      <td>888</td>\n",
       "      <td>0.333333</td>\n",
       "    </tr>\n",
       "    <tr>\n",
       "      <th>1</th>\n",
       "      <td>Male</td>\n",
       "      <td>888</td>\n",
       "      <td>0.333333</td>\n",
       "    </tr>\n",
       "    <tr>\n",
       "      <th>2</th>\n",
       "      <td>Female</td>\n",
       "      <td>888</td>\n",
       "      <td>0.333333</td>\n",
       "    </tr>\n",
       "  </tbody>\n",
       "</table>\n",
       "</div>"
      ],
      "text/plain": [
       "          Sex  Frequency  Relative Frequency\n",
       "0  Both sexes        888            0.333333\n",
       "1        Male        888            0.333333\n",
       "2      Female        888            0.333333"
      ]
     },
     "execution_count": 59,
     "metadata": {},
     "output_type": "execute_result"
    }
   ],
   "source": [
    "subtable = pd.DataFrame({'Sex': value_counts.index, \n",
    "                         'Frequency': value_counts.values, \n",
    "                         'Relative Frequency': relative_frequencies.values})\n",
    "subtable"
   ]
  },
  {
   "cell_type": "markdown",
   "id": "633331de",
   "metadata": {},
   "source": [
    "n= total lend immigrant\n",
    "\n",
    "p= probability of immigrant being female \n",
    "\n",
    "K= number of females in the dataset\n",
    "\n",
    "N typically represents the total number of trials or occurrences. In this case, it may correspond to the total number of immigrants or the sample size.\n",
    "\n",
    "P represents the probability of success in a single trial. Here, it would be the probability of an immigrant being female, as calculated using the formula:\n",
    "\n",
    "probability_female_2005 = female_immigrants_2005 / total_immigrants_2005\n",
    "\n",
    "K represents the number of successful outcomes. It can also be considered as the number of females in the dataset.\n",
    "\n",
    "X represents the random variable that denotes the number of successful outcomes or events.\n"
   ]
  },
  {
   "cell_type": "code",
   "execution_count": 60,
   "id": "763f21f6",
   "metadata": {
    "tags": []
   },
   "outputs": [
    {
     "name": "stdout",
     "output_type": "stream",
     "text": [
      "Probability of immigrants being female in 2007: 0.24674421206364752\n"
     ]
    }
   ],
   "source": [
    "total_immigrants_2007 = df.loc[df['Year'] == 2007, 'Value'].sum()\n",
    "female_immigrants_2007 = df.loc[(df['Year'] == 2007) & (df['Sex'] == 'Female'), 'Value'].sum()\n",
    "\n",
    "probability_female_2007 = female_immigrants_2007 / total_immigrants_2007\n",
    "\n",
    "print(\"Probability of immigrants being female in 2007:\", probability_female_2007)\n"
   ]
  },
  {
   "cell_type": "code",
   "execution_count": 61,
   "id": "d118c18a",
   "metadata": {
    "tags": []
   },
   "outputs": [
    {
     "name": "stdout",
     "output_type": "stream",
     "text": [
      "Probability of immigrants being male in 2007: 0.2728085596971027\n"
     ]
    }
   ],
   "source": [
    "total_immigrants_2007 = df.loc[df['Year'] == 2007, 'Value'].sum()\n",
    "male_immigrants_2007 = df.loc[(df['Year'] == 2007) & (df['Sex'] == 'Male'), 'Value'].sum()\n",
    "\n",
    "probability_male_2007 = male_immigrants_2007 / total_immigrants_2007\n",
    "\n",
    "print(\"Probability of immigrants being male in 2007:\", probability_male_2007)\n"
   ]
  },
  {
   "cell_type": "code",
   "execution_count": 62,
   "id": "a03c1aa7",
   "metadata": {
    "tags": []
   },
   "outputs": [
    {
     "data": {
      "image/png": "[encoded data removed]",
      "text/plain": [
       "<Figure size 800x600 with 1 Axes>"
      ]
     },
     "metadata": {},
     "output_type": "display_data"
    }
   ],
   "source": [
    "import matplotlib.pyplot as plt\n",
    "\n",
    "# Data\n",
    "probabilities = {'Male': 0.2728085596971027, 'Female': 0.14017800407908665}\n",
    "\n",
    "# Plotting the data\n",
    "plt.figure(figsize=(8, 6))\n",
    "plt.bar(probabilities.keys(), probabilities.values(), color=['blue', 'red'])\n",
    "plt.title('Probabilities of Immigrants by Gender in 2007', fontsize=15)\n",
    "plt.xlabel('Gender', fontsize=12)\n",
    "plt.ylabel('Probability', fontsize=12)\n",
    "plt.show()\n"
   ]
  },
  {
   "cell_type": "markdown",
   "id": "12e1937a",
   "metadata": {},
   "source": [
    "## Normal Distribution "
   ]
  },
  {
   "cell_type": "markdown",
   "id": "944a3910",
   "metadata": {},
   "source": [
    "Is the distribution of male and females immigrants across different years or countries in the dataset indicative of a normal pattern?\n"
   ]
  },
  {
   "cell_type": "code",
   "execution_count": 63,
   "id": "7b34c9a5",
   "metadata": {
    "tags": []
   },
   "outputs": [],
   "source": [
    "from scipy.stats import norm"
   ]
  },
  {
   "cell_type": "markdown",
   "id": "d063233a",
   "metadata": {},
   "source": [
    "Calculate the mean and standar deviation for males and females"
   ]
  },
  {
   "cell_type": "code",
   "execution_count": 64,
   "id": "c619081e",
   "metadata": {
    "tags": []
   },
   "outputs": [
    {
     "name": "stdout",
     "output_type": "stream",
     "text": [
      "Sex\n",
      "Both sexes    12.714381\n",
      "Female         6.998207\n",
      "Male           7.118590\n",
      "Name: Value, dtype: float64\n"
     ]
    }
   ],
   "source": [
    "mean_by_sex = df.groupby('Sex')['Value'].mean()\n",
    "\n",
    "# Display the mean values by group\n",
    "print(mean_by_sex)"
   ]
  },
  {
   "cell_type": "code",
   "execution_count": 65,
   "id": "8f535bd1",
   "metadata": {
    "tags": []
   },
   "outputs": [
    {
     "name": "stdout",
     "output_type": "stream",
     "text": [
      "Sex\n",
      "Both sexes    19.086998\n",
      "Female         9.529714\n",
      "Male           9.702190\n",
      "Name: Value, dtype: float64\n"
     ]
    }
   ],
   "source": [
    "# Calculating the standard deviation of a group (e.g., 'Sex')\n",
    "std_by_sex = df.groupby('Sex')['Value'].std()\n",
    "\n",
    "# Display the standard deviation values by group\n",
    "print(std_by_sex)\n"
   ]
  },
  {
   "cell_type": "code",
   "execution_count": 66,
   "id": "4c7bc3bc",
   "metadata": {
    "tags": []
   },
   "outputs": [],
   "source": [
    "from scipy.stats import shapiro, ks_2samp\n"
   ]
  },
  {
   "cell_type": "code",
   "execution_count": 67,
   "id": "06cf6232",
   "metadata": {
    "tags": []
   },
   "outputs": [],
   "source": [
    "# Example for Male immigrants\n",
    "male_data = df.loc[df['Sex'] == 'Male', 'Value']\n",
    "\n",
    "# Example for Female immigrants\n",
    "female_data = df.loc[df['Sex'] == 'Female', 'Value']\n",
    "\n",
    "# Perform Shapiro-Wilk test\n",
    "shapiro_test_male = shapiro(male_data)\n",
    "shapiro_test_female = shapiro(female_data)\n",
    "\n",
    "# Perform Kolmogorov-Smirnov test\n",
    "ks_test = ks_2samp(male_data, female_data)\n"
   ]
  },
  {
   "cell_type": "code",
   "execution_count": 68,
   "id": "03035276",
   "metadata": {
    "tags": []
   },
   "outputs": [
    {
     "name": "stdout",
     "output_type": "stream",
     "text": [
      "Shapiro-Wilk test results for Male immigrants: ShapiroResult(statistic=0.7571923732757568, pvalue=3.556784404012932e-34)\n",
      "Shapiro-Wilk test results for Female immigrants: ShapiroResult(statistic=0.7539758086204529, pvalue=2.3922515380120624e-34)\n",
      "Kolmogorov-Smirnov test results between Male and Female immigrants: KstestResult(statistic=0.02252252252252252, pvalue=0.9780472903203854, statistic_location=2.4, statistic_sign=1)\n"
     ]
    }
   ],
   "source": [
    "print(\"Shapiro-Wilk test results for Male immigrants:\", shapiro_test_male)\n",
    "print(\"Shapiro-Wilk test results for Female immigrants:\", shapiro_test_female)\n",
    "print(\"Kolmogorov-Smirnov test results between Male and Female immigrants:\", ks_test)\n"
   ]
  },
  {
   "cell_type": "markdown",
   "id": "b0091784",
   "metadata": {},
   "source": [
    "## Outliers "
   ]
  },
  {
   "cell_type": "code",
   "execution_count": 69,
   "id": "c70213ed",
   "metadata": {
    "tags": []
   },
   "outputs": [
    {
     "name": "stdout",
     "output_type": "stream",
     "text": [
      "      Year Country  Sex Migration  Value\n",
      "0      NaN     NaN  NaN       NaN  -13.7\n",
      "1      NaN     NaN  NaN       NaN   21.8\n",
      "3      NaN     NaN  NaN       NaN   -9.0\n",
      "45     NaN     NaN  NaN       NaN  -23.0\n",
      "46     NaN     NaN  NaN       NaN   40.2\n",
      "...    ...     ...  ...       ...    ...\n",
      "2641   NaN     NaN  NaN       NaN   31.0\n",
      "2642   NaN     NaN  NaN       NaN   66.1\n",
      "2643   NaN     NaN  NaN       NaN   42.6\n",
      "2644   NaN     NaN  NaN       NaN   32.9\n",
      "2645   NaN     NaN  NaN       NaN   75.5\n",
      "\n",
      "[331 rows x 5 columns]\n"
     ]
    }
   ],
   "source": [
    "import pandas as pd\n",
    "\n",
    "# Assuming 'df' is your DataFrame\n",
    "numeric_columns = df.select_dtypes(include=[np.number]).columns\n",
    "numeric_df = df[numeric_columns]\n",
    "\n",
    "Q1 = numeric_df.quantile(0.25)\n",
    "Q3 = numeric_df.quantile(0.75)\n",
    "IQR = Q3 - Q1\n",
    "\n",
    "outliers = (numeric_df < (Q1 - 1.5 * IQR)) | (numeric_df > (Q3 + 1.5 * IQR))\n",
    "outlier_values = df[outliers].dropna(how=\"all\")\n",
    "print(outlier_values)\n"
   ]
  },
  {
   "cell_type": "code",
   "execution_count": 70,
   "id": "c19235e6",
   "metadata": {
    "tags": []
   },
   "outputs": [
    {
     "name": "stdout",
     "output_type": "stream",
     "text": [
      "      Year        Country         Sex      Migration  Value\n",
      "118   1988  All countries  Both sexes      Emigrants   61.1\n",
      "190   1989  All countries  Both sexes      Emigrants   70.6\n",
      "262   1990  All countries  Both sexes      Emigrants   56.3\n",
      "983   2000  All countries  Both sexes     Immigrants   52.6\n",
      "1055  2001  All countries  Both sexes     Immigrants   59.0\n",
      "...    ...            ...         ...            ...    ...\n",
      "2637  2023  All countries  Both sexes  Net migration   77.7\n",
      "2638  2023  All countries  Both sexes      Emigrants   64.0\n",
      "2639  2023  All countries  Both sexes     Immigrants  141.6\n",
      "2642  2023  All countries        Male     Immigrants   66.1\n",
      "2645  2023  All countries      Female     Immigrants   75.5\n",
      "\n",
      "[62 rows x 5 columns]\n"
     ]
    }
   ],
   "source": [
    "outliers = df.loc[df['Value'] > 50]  # Assuming 'df' is your DataFrame\n",
    "print(outliers)\n"
   ]
  },
  {
   "cell_type": "code",
   "execution_count": 71,
   "id": "f32c741d",
   "metadata": {
    "tags": []
   },
   "outputs": [
    {
     "data": {
      "image/png": "[encoded data removed]",
      "text/plain": [
       "<Figure size 800x600 with 1 Axes>"
      ]
     },
     "metadata": {},
     "output_type": "display_data"
    }
   ],
   "source": [
    "import matplotlib.pyplot as plt\n",
    "import seaborn as sns\n",
    "\n",
    "# Subset the data containing only the 'Emigrants' and 'Immigrants' categories\n",
    "outlier_subset = df[df['Migration'].isin(['Emigrants', 'Immigrants'])]\n",
    "\n",
    "# Create a box plot\n",
    "plt.figure(figsize=(8, 6))\n",
    "sns.boxplot(x='Migration', y='Value', data=outlier_subset)\n",
    "plt.title('Distribution of Values for Emigrants and Immigrants')\n",
    "plt.xlabel('Migration')\n",
    "plt.ylabel('Value')\n",
    "plt.show()\n"
   ]
  },
  {
   "cell_type": "code",
   "execution_count": 72,
   "id": "4c3d9c03",
   "metadata": {
    "tags": []
   },
   "outputs": [
    {
     "data": {
      "text/plain": [
       "<bound method DataFrame.info of       Year         Country         Sex      Migration  Value\n",
       "0     1987  United Kingdom  Both sexes  Net migration  -13.7\n",
       "1     1987  United Kingdom  Both sexes      Emigrants   21.8\n",
       "2     1987  United Kingdom  Both sexes     Immigrants    8.1\n",
       "3     1987  United Kingdom        Male  Net migration   -9.0\n",
       "4     1987  United Kingdom        Male      Emigrants   13.1\n",
       "...    ...             ...         ...            ...    ...\n",
       "2659  2023    EU15 to EU27        Male      Emigrants    3.6\n",
       "2660  2023    EU15 to EU27        Male     Immigrants    3.9\n",
       "2661  2023    EU15 to EU27      Female  Net migration   -0.2\n",
       "2662  2023    EU15 to EU27      Female      Emigrants    5.2\n",
       "2663  2023    EU15 to EU27      Female     Immigrants    5.0\n",
       "\n",
       "[2664 rows x 5 columns]>"
      ]
     },
     "execution_count": 72,
     "metadata": {},
     "output_type": "execute_result"
    }
   ],
   "source": [
    "df.info"
   ]
  },
  {
   "cell_type": "markdown",
   "id": "f3c642c6-db87-43d5-9d30-860d7c02d729",
   "metadata": {
    "tags": []
   },
   "source": [
    "## CLEAN OUTLINERS HERE HERE HERE HERE HERE HERE ###################################################################################################"
   ]
  },
  {
   "cell_type": "code",
   "execution_count": 73,
   "id": "bec6b01c-bb55-4666-8e17-6998f34a48a5",
   "metadata": {
    "tags": []
   },
   "outputs": [],
   "source": [
    "#CLEAN OUTLINERS\n",
    "# Calculate discrete values in column \"VALUE\"\n",
    "Q1 = df['Value'].quantile(0.25)\n",
    "Q3 = df['Value'].quantile(0.75)\n",
    "IQR = Q3 - Q1\n",
    "lower_bound = Q1 - 1.5 * IQR\n",
    "upper_bound = Q3 + 1.5 * IQR\n",
    "\n",
    "# Filter outliers and create a new data frame\n",
    "filtered_data = df[(df['Value'] >= lower_bound) & (df['Value'] <= upper_bound)]\n",
    "\n",
    "# You can use it to save data with outliers removed\n",
    "filtered_data.to_csv('karim_clean_data.csv', index=False)"
   ]
  },
  {
   "cell_type": "code",
   "execution_count": 74,
   "id": "9d406a60-25a8-475b-904c-92cd0380de38",
   "metadata": {
    "tags": []
   },
   "outputs": [
    {
     "data": {
      "text/html": [
       "<div>\n",
       "<style scoped>\n",
       "    .dataframe tbody tr th:only-of-type {\n",
       "        vertical-align: middle;\n",
       "    }\n",
       "\n",
       "    .dataframe tbody tr th {\n",
       "        vertical-align: top;\n",
       "    }\n",
       "\n",
       "    .dataframe thead th {\n",
       "        text-align: right;\n",
       "    }\n",
       "</style>\n",
       "<table border=\"1\" class=\"dataframe\">\n",
       "  <thead>\n",
       "    <tr style=\"text-align: right;\">\n",
       "      <th></th>\n",
       "      <th>Year</th>\n",
       "      <th>Country</th>\n",
       "      <th>Sex</th>\n",
       "      <th>Migration</th>\n",
       "      <th>Value</th>\n",
       "    </tr>\n",
       "  </thead>\n",
       "  <tbody>\n",
       "    <tr>\n",
       "      <th>0</th>\n",
       "      <td>1987</td>\n",
       "      <td>United Kingdom</td>\n",
       "      <td>Both sexes</td>\n",
       "      <td>Immigrants</td>\n",
       "      <td>8.1</td>\n",
       "    </tr>\n",
       "    <tr>\n",
       "      <th>1</th>\n",
       "      <td>1987</td>\n",
       "      <td>United Kingdom</td>\n",
       "      <td>Male</td>\n",
       "      <td>Emigrants</td>\n",
       "      <td>13.1</td>\n",
       "    </tr>\n",
       "    <tr>\n",
       "      <th>2</th>\n",
       "      <td>1987</td>\n",
       "      <td>United Kingdom</td>\n",
       "      <td>Male</td>\n",
       "      <td>Immigrants</td>\n",
       "      <td>4.1</td>\n",
       "    </tr>\n",
       "    <tr>\n",
       "      <th>3</th>\n",
       "      <td>1987</td>\n",
       "      <td>United Kingdom</td>\n",
       "      <td>Female</td>\n",
       "      <td>Net migration</td>\n",
       "      <td>-4.7</td>\n",
       "    </tr>\n",
       "    <tr>\n",
       "      <th>4</th>\n",
       "      <td>1987</td>\n",
       "      <td>United Kingdom</td>\n",
       "      <td>Female</td>\n",
       "      <td>Emigrants</td>\n",
       "      <td>8.7</td>\n",
       "    </tr>\n",
       "    <tr>\n",
       "      <th>...</th>\n",
       "      <td>...</td>\n",
       "      <td>...</td>\n",
       "      <td>...</td>\n",
       "      <td>...</td>\n",
       "      <td>...</td>\n",
       "    </tr>\n",
       "    <tr>\n",
       "      <th>2328</th>\n",
       "      <td>2023</td>\n",
       "      <td>EU15 to EU27</td>\n",
       "      <td>Male</td>\n",
       "      <td>Emigrants</td>\n",
       "      <td>3.6</td>\n",
       "    </tr>\n",
       "    <tr>\n",
       "      <th>2329</th>\n",
       "      <td>2023</td>\n",
       "      <td>EU15 to EU27</td>\n",
       "      <td>Male</td>\n",
       "      <td>Immigrants</td>\n",
       "      <td>3.9</td>\n",
       "    </tr>\n",
       "    <tr>\n",
       "      <th>2330</th>\n",
       "      <td>2023</td>\n",
       "      <td>EU15 to EU27</td>\n",
       "      <td>Female</td>\n",
       "      <td>Net migration</td>\n",
       "      <td>-0.2</td>\n",
       "    </tr>\n",
       "    <tr>\n",
       "      <th>2331</th>\n",
       "      <td>2023</td>\n",
       "      <td>EU15 to EU27</td>\n",
       "      <td>Female</td>\n",
       "      <td>Emigrants</td>\n",
       "      <td>5.2</td>\n",
       "    </tr>\n",
       "    <tr>\n",
       "      <th>2332</th>\n",
       "      <td>2023</td>\n",
       "      <td>EU15 to EU27</td>\n",
       "      <td>Female</td>\n",
       "      <td>Immigrants</td>\n",
       "      <td>5.0</td>\n",
       "    </tr>\n",
       "  </tbody>\n",
       "</table>\n",
       "<p>2333 rows × 5 columns</p>\n",
       "</div>"
      ],
      "text/plain": [
       "      Year         Country         Sex      Migration  Value\n",
       "0     1987  United Kingdom  Both sexes     Immigrants    8.1\n",
       "1     1987  United Kingdom        Male      Emigrants   13.1\n",
       "2     1987  United Kingdom        Male     Immigrants    4.1\n",
       "3     1987  United Kingdom      Female  Net migration   -4.7\n",
       "4     1987  United Kingdom      Female      Emigrants    8.7\n",
       "...    ...             ...         ...            ...    ...\n",
       "2328  2023    EU15 to EU27        Male      Emigrants    3.6\n",
       "2329  2023    EU15 to EU27        Male     Immigrants    3.9\n",
       "2330  2023    EU15 to EU27      Female  Net migration   -0.2\n",
       "2331  2023    EU15 to EU27      Female      Emigrants    5.2\n",
       "2332  2023    EU15 to EU27      Female     Immigrants    5.0\n",
       "\n",
       "[2333 rows x 5 columns]"
      ]
     },
     "execution_count": 74,
     "metadata": {},
     "output_type": "execute_result"
    }
   ],
   "source": [
    "c_k_df=pd.read_csv(\"karim_clean_data.csv\")\n",
    "c_k_df"
   ]
  },
  {
   "cell_type": "markdown",
   "id": "d7c912f0-d54e-4f1f-baea-f1e3479ab782",
   "metadata": {},
   "source": [
    "## CLEAN OUTLINERS"
   ]
  },
  {
   "cell_type": "code",
   "execution_count": 75,
   "id": "b4ab0af6",
   "metadata": {
    "tags": []
   },
   "outputs": [
    {
     "name": "stdout",
     "output_type": "stream",
     "text": [
      "Mean Squared Error: 20.018125679881408\n",
      "Coefficient of Determination (R^2): -0.00603709985346601\n"
     ]
    }
   ],
   "source": [
    "import pandas as pd\n",
    "from sklearn.model_selection import train_test_split\n",
    "from sklearn.linear_model import LinearRegression\n",
    "from sklearn.metrics import mean_squared_error, r2_score\n",
    "\n",
    "# Step 2: Load the dataset\n",
    "# Replace 'path_to_dataset.csv' with the actual path to your dataset\n",
    "# data = pd.read_csv('path_to_dataset.csv')\n",
    "\n",
    "# Step 3: Prepare the data\n",
    "# Assuming 'Value' is the dependent variable and 'Year' is the independent variable for this example\n",
    "X = c_k_df[['Year']]  # Features\n",
    "y = c_k_df['Value']   # Target variable\n",
    "\n",
    "# Step 4: Split the data into training and testing sets\n",
    "X_train, X_test, y_train, y_test = train_test_split(X, y, test_size=0.2, random_state=0)\n",
    "\n",
    "# Step 5: Fit the linear regression model\n",
    "model = LinearRegression()\n",
    "model.fit(X_train, y_train)\n",
    "\n",
    "# Step 6: Make predictions\n",
    "y_pred = model.predict(X_test)\n",
    "\n",
    "# Step 7: Evaluate the performance of the model\n",
    "print('Mean Squared Error:', mean_squared_error(y_test, y_pred))\n",
    "print('Coefficient of Determination (R^2):', r2_score(y_test, y_pred))\n"
   ]
  },
  {
   "cell_type": "markdown",
   "id": "faaafbaf",
   "metadata": {},
   "source": [
    "answer to question 4. The variable \"probability_male_2007\" in your code calculates the probability of immigrants being male in the year 2007. While this variable does not represent a direct normal distribution, you can use the data related to the total number of immigrants and the number of male immigrants to analyze the distribution for normality.\n",
    "\n",
    "To apply the normal distribution concept to this data, you could consider examining the distribution of male immigrants across different years or countries to determine if it follows a normal pattern. Additionally, you can perform statistical tests such as the Kolmogorov-Smirnov test or the Shapiro-Wilk test to assess the normality of the distribution based on the available data points."
   ]
  },
  {
   "cell_type": "markdown",
   "id": "bd3722a8",
   "metadata": {},
   "source": [
    "## Preparing Data for Machine Learning feature engine"
   ]
  },
  {
   "cell_type": "code",
   "execution_count": 76,
   "id": "4821382d",
   "metadata": {
    "tags": []
   },
   "outputs": [
    {
     "name": "stdout",
     "output_type": "stream",
     "text": [
      "   Year  Sex  Value  Country_All countries  Country_Australia  Country_Canada  \\\n",
      "0  1987    0    8.1                  False              False           False   \n",
      "1  1987    2   13.1                  False              False           False   \n",
      "2  1987    2    4.1                  False              False           False   \n",
      "3  1987    1   -4.7                  False              False           False   \n",
      "4  1987    1    8.7                  False              False           False   \n",
      "\n",
      "   Country_EU14 excl Irl  Country_EU15 to EU27  Country_Other countries  \\\n",
      "0                  False                 False                    False   \n",
      "1                  False                 False                    False   \n",
      "2                  False                 False                    False   \n",
      "3                  False                 False                    False   \n",
      "4                  False                 False                    False   \n",
      "\n",
      "   Country_United Kingdom  Country_United States  Migration_Emigrants  \\\n",
      "0                    True                  False                False   \n",
      "1                    True                  False                 True   \n",
      "2                    True                  False                False   \n",
      "3                    True                  False                False   \n",
      "4                    True                  False                 True   \n",
      "\n",
      "   Migration_Immigrants  Migration_Net migration  \n",
      "0                  True                    False  \n",
      "1                 False                    False  \n",
      "2                  True                    False  \n",
      "3                 False                     True  \n",
      "4                 False                    False  \n"
     ]
    }
   ],
   "source": [
    "c_k_df['Sex'] = c_k_df['Sex'].astype('category')\n",
    "c_k_df['Sex'] = c_k_df['Sex'].cat.codes\n",
    "\n",
    "# Perform one-hot encoding for 'Country' and 'Origin or Destination'\n",
    "c_k_df = pd.get_dummies(c_k_df, columns=['Country', 'Migration'])\n",
    "\n",
    "# Print the encoded dataset\n",
    "print(c_k_df.head())"
   ]
  },
  {
   "cell_type": "code",
   "execution_count": 77,
   "id": "0aece74e",
   "metadata": {
    "tags": []
   },
   "outputs": [
    {
     "name": "stdout",
     "output_type": "stream",
     "text": [
      "Mean Squared Error: 7.905746894327395e-30\n",
      "Coefficient of Determination (R^2): 1.0\n"
     ]
    }
   ],
   "source": [
    "import pandas as pd\n",
    "from sklearn.model_selection import train_test_split\n",
    "from sklearn.linear_model import LinearRegression\n",
    "from sklearn.metrics import mean_squared_error, r2_score\n",
    "\n",
    "# Assuming 'Value' is the dependent variable\n",
    "X = c_k_df.drop(['Year'], axis=1)  # Features\n",
    "y = c_k_df['Value']  # Target variable\n",
    "\n",
    "# Split the data into training and testing sets\n",
    "X_train, X_test, y_train, y_test = train_test_split(X, y, test_size=0.2, random_state=0)\n",
    "\n",
    "# Fit the linear regression model\n",
    "model = LinearRegression()\n",
    "model.fit(X_train, y_train)\n",
    "\n",
    "# Make predictions\n",
    "y_pred = model.predict(X_test)\n",
    "\n",
    "# Evaluate the performance of the model\n",
    "print('Mean Squared Error:', mean_squared_error(y_test, y_pred))\n",
    "print('Coefficient of Determination (R^2):', r2_score(y_test, y_pred))\n"
   ]
  },
  {
   "cell_type": "markdown",
   "id": "b49e2b90",
   "metadata": {},
   "source": [
    "An MSE of 4.645285625326087e-28 and an R-squared value of 1.0 indicate that your model is performing exceptionally well. An MSE close to zero suggests that the model's predicted values are extremely close to the actual values, essentially indicating a perfect fit. \n",
    "\n",
    "Similarly, an R-squared value of 1.0 indicates that your model explains 100% of the variance in the dependent variable, suggesting that it perfectly predicts the target variable based on the independent variables.\n",
    "\n",
    "While these results are highly promising, it's important to double-check and validate your model to ensure that there are no issues such as overfitting, data leakage, or other anomalies. Make sure to evaluate the model's performance on unseen data or using cross-validation techniques to confirm that the model's exceptional performance holds across different subsets of the data. Additionally, consider the possibility of any errors or issues in the data preparation or analysis process that may have led to these seemingly perfect results."
   ]
  },
  {
   "cell_type": "code",
   "execution_count": 78,
   "id": "5f3faaab",
   "metadata": {
    "tags": []
   },
   "outputs": [
    {
     "name": "stdout",
     "output_type": "stream",
     "text": [
      "Mean Squared Error on Test Set: 1.0016737621222182e-31\n",
      "R-squared on Test Set: 1.0\n"
     ]
    }
   ],
   "source": [
    "from sklearn.model_selection import train_test_split\n",
    "from sklearn.linear_model import LinearRegression\n",
    "from sklearn.metrics import mean_squared_error, r2_score\n",
    "\n",
    "# Assuming X and y are your features and target variable, respectively\n",
    "\n",
    "# Split the data into training and testing sets\n",
    "X_train, X_test, y_train, y_test = train_test_split(X, y, test_size=0.2, random_state=42)\n",
    "\n",
    "# Fit the model on the training data\n",
    "model = LinearRegression()\n",
    "model.fit(X_train, y_train)\n",
    "\n",
    "# Make predictions on the test data\n",
    "y_pred = model.predict(X_test)\n",
    "\n",
    "# Calculate the mean squared error and R-squared for the test set\n",
    "mse = mean_squared_error(y_test, y_pred)\n",
    "r2 = r2_score(y_test, y_pred)\n",
    "\n",
    "print(\"Mean Squared Error on Test Set:\", mse)\n",
    "print(\"R-squared on Test Set:\", r2)\n"
   ]
  },
  {
   "cell_type": "code",
   "execution_count": 79,
   "id": "855b4810",
   "metadata": {
    "tags": []
   },
   "outputs": [
    {
     "data": {
      "image/png": "[encoded data removed]",
      "text/plain": [
       "<Figure size 640x480 with 1 Axes>"
      ]
     },
     "metadata": {},
     "output_type": "display_data"
    },
    {
     "name": "stdout",
     "output_type": "stream",
     "text": [
      "Residuals Mean: -1.6957468035916118e-16\n",
      "Residuals Standard Deviation: 2.6751644474291305e-16\n"
     ]
    }
   ],
   "source": [
    "# Assuming y_test and y_pred are the actual and predicted values from the test set\n",
    "\n",
    "# Calculate the residuals\n",
    "residuals = y_test - y_pred\n",
    "\n",
    "# Plot the residuals to check for any patterns\n",
    "import matplotlib.pyplot as plt\n",
    "\n",
    "plt.scatter(y_pred, residuals)\n",
    "plt.axhline(y=0, color='r', linestyle='-')\n",
    "plt.title('Residual Analysis')\n",
    "plt.xlabel('Predicted Values')\n",
    "plt.ylabel('Residuals')\n",
    "plt.show()\n",
    "\n",
    "# Alternatively, you can calculate descriptive statistics of the residuals\n",
    "print(\"Residuals Mean:\", residuals.mean())\n",
    "print(\"Residuals Standard Deviation:\", residuals.std())\n"
   ]
  },
  {
   "cell_type": "code",
   "execution_count": 80,
   "id": "6292a760",
   "metadata": {
    "tags": []
   },
   "outputs": [
    {
     "name": "stdout",
     "output_type": "stream",
     "text": [
      "Mean Cross-validated MSE: 1.6606627565821635e-29\n",
      "Standard Deviation of Cross-validated MSE: 1.6460038321295848e-29\n"
     ]
    }
   ],
   "source": [
    "from sklearn.model_selection import cross_val_score, KFold\n",
    "from sklearn.linear_model import LinearRegression\n",
    "\n",
    "# Assuming X and y are your features and target variable, respectively\n",
    "\n",
    "# Define the number of folds for cross-validation\n",
    "num_folds = 5\n",
    "# Initialize the KFold object\n",
    "kfold = KFold(n_splits=num_folds, shuffle=True, random_state=42)\n",
    "\n",
    "# Initialize the linear regression model\n",
    "model = LinearRegression()\n",
    "\n",
    "# Perform cross-validation\n",
    "scores = cross_val_score(model, X, y, cv=kfold, scoring='neg_mean_squared_error')\n",
    "\n",
    "# Convert the scores to positive values\n",
    "scores = -scores\n",
    "\n",
    "# Calculate the mean and standard deviation of the scores\n",
    "mean_score = scores.mean()\n",
    "std_score = scores.std()\n",
    "\n",
    "print(f\"Mean Cross-validated MSE: {mean_score}\")\n",
    "print(f\"Standard Deviation of Cross-validated MSE: {std_score}\")\n"
   ]
  },
  {
   "cell_type": "markdown",
   "id": "e4995bb3",
   "metadata": {},
   "source": [
    "## Decision Trees and Random Forest¶"
   ]
  },
  {
   "cell_type": "code",
   "execution_count": 81,
   "id": "c4aa91f0",
   "metadata": {
    "tags": []
   },
   "outputs": [
    {
     "data": {
      "text/html": [
       "<div>\n",
       "<style scoped>\n",
       "    .dataframe tbody tr th:only-of-type {\n",
       "        vertical-align: middle;\n",
       "    }\n",
       "\n",
       "    .dataframe tbody tr th {\n",
       "        vertical-align: top;\n",
       "    }\n",
       "\n",
       "    .dataframe thead th {\n",
       "        text-align: right;\n",
       "    }\n",
       "</style>\n",
       "<table border=\"1\" class=\"dataframe\">\n",
       "  <thead>\n",
       "    <tr style=\"text-align: right;\">\n",
       "      <th></th>\n",
       "      <th>Year</th>\n",
       "      <th>Country</th>\n",
       "      <th>Sex</th>\n",
       "      <th>Migration</th>\n",
       "      <th>Value</th>\n",
       "    </tr>\n",
       "  </thead>\n",
       "  <tbody>\n",
       "    <tr>\n",
       "      <th>0</th>\n",
       "      <td>1987</td>\n",
       "      <td>United Kingdom</td>\n",
       "      <td>Both sexes</td>\n",
       "      <td>Net migration</td>\n",
       "      <td>-13.7</td>\n",
       "    </tr>\n",
       "    <tr>\n",
       "      <th>1</th>\n",
       "      <td>1987</td>\n",
       "      <td>United Kingdom</td>\n",
       "      <td>Both sexes</td>\n",
       "      <td>Emigrants</td>\n",
       "      <td>21.8</td>\n",
       "    </tr>\n",
       "    <tr>\n",
       "      <th>2</th>\n",
       "      <td>1987</td>\n",
       "      <td>United Kingdom</td>\n",
       "      <td>Both sexes</td>\n",
       "      <td>Immigrants</td>\n",
       "      <td>8.1</td>\n",
       "    </tr>\n",
       "    <tr>\n",
       "      <th>3</th>\n",
       "      <td>1987</td>\n",
       "      <td>United Kingdom</td>\n",
       "      <td>Male</td>\n",
       "      <td>Net migration</td>\n",
       "      <td>-9.0</td>\n",
       "    </tr>\n",
       "    <tr>\n",
       "      <th>4</th>\n",
       "      <td>1987</td>\n",
       "      <td>United Kingdom</td>\n",
       "      <td>Male</td>\n",
       "      <td>Emigrants</td>\n",
       "      <td>13.1</td>\n",
       "    </tr>\n",
       "  </tbody>\n",
       "</table>\n",
       "</div>"
      ],
      "text/plain": [
       "   Year         Country         Sex      Migration  Value\n",
       "0  1987  United Kingdom  Both sexes  Net migration  -13.7\n",
       "1  1987  United Kingdom  Both sexes      Emigrants   21.8\n",
       "2  1987  United Kingdom  Both sexes     Immigrants    8.1\n",
       "3  1987  United Kingdom        Male  Net migration   -9.0\n",
       "4  1987  United Kingdom        Male      Emigrants   13.1"
      ]
     },
     "execution_count": 81,
     "metadata": {},
     "output_type": "execute_result"
    }
   ],
   "source": [
    "df.head()"
   ]
  },
  {
   "cell_type": "code",
   "execution_count": 86,
   "id": "cac85394",
   "metadata": {
    "tags": []
   },
   "outputs": [],
   "source": [
    "# Selecting the input features\n",
    "X = c_k_df.drop(['Value'], axis=1)  # Excluding the 'Value' column\n",
    "\n",
    "# Selecting the target variable\n",
    "y = c_k_df['Value']"
   ]
  },
  {
   "cell_type": "code",
   "execution_count": 87,
   "id": "30872d71",
   "metadata": {
    "tags": []
   },
   "outputs": [
    {
     "name": "stdout",
     "output_type": "stream",
     "text": [
      "X_train shape: (1866, 13)\n",
      "X_test shape: (467, 13)\n",
      "y_train shape: (1866,)\n",
      "y_test shape: (467,)\n"
     ]
    }
   ],
   "source": [
    "from sklearn.model_selection import train_test_split\n",
    "\n",
    "# Assuming X and y are your input features and target variable\n",
    "X_train, X_test, y_train, y_test = train_test_split(X, y, test_size=0.2, random_state= 42)\n",
    "\n",
    "# Print the shapes of the training and test sets\n",
    "print(\"X_train shape:\", X_train.shape)\n",
    "print(\"X_test shape:\", X_test.shape)\n",
    "print(\"y_train shape:\", y_train.shape)\n",
    "print(\"y_test shape:\", y_test.shape)\n"
   ]
  },
  {
   "cell_type": "code",
   "execution_count": 88,
   "id": "05ece68a",
   "metadata": {
    "tags": []
   },
   "outputs": [
    {
     "data": {
      "text/plain": [
       "((2333, 13), (2333,), (1866, 13), (467, 13), (1866,), (467,))"
      ]
     },
     "execution_count": 88,
     "metadata": {},
     "output_type": "execute_result"
    }
   ],
   "source": [
    "from sklearn.model_selection import train_test_split\n",
    "\n",
    "# Split the data set into Training and Testing parts\n",
    "X_train, X_test, y_train, y_test = train_test_split(X, y, test_size = 0.2, random_state = 42)\n",
    "\n",
    "# Display the Number of rows and columns before (X, y) and after Splitting (X_train, X_test, y_train, y_test)\n",
    "X.shape, y.shape, X_train.shape, X_test.shape, y_train.shape, y_test.shape"
   ]
  },
  {
   "cell_type": "markdown",
   "id": "42ae72f3",
   "metadata": {},
   "source": [
    "## Linear Regression"
   ]
  },
  {
   "cell_type": "code",
   "execution_count": 90,
   "id": "05a9804d",
   "metadata": {
    "tags": []
   },
   "outputs": [],
   "source": [
    "from sklearn.preprocessing import StandardScaler\n",
    "scaler = StandardScaler()\n",
    "\n",
    "df_scale = pd.DataFrame(scaler.fit_transform(c_k_df),columns=c_k_df.columns)\n"
   ]
  },
  {
   "cell_type": "code",
   "execution_count": 91,
   "id": "16eee58e",
   "metadata": {
    "tags": []
   },
   "outputs": [
    {
     "data": {
      "text/html": [
       "<div>\n",
       "<style scoped>\n",
       "    .dataframe tbody tr th:only-of-type {\n",
       "        vertical-align: middle;\n",
       "    }\n",
       "\n",
       "    .dataframe tbody tr th {\n",
       "        vertical-align: top;\n",
       "    }\n",
       "\n",
       "    .dataframe thead th {\n",
       "        text-align: right;\n",
       "    }\n",
       "</style>\n",
       "<table border=\"1\" class=\"dataframe\">\n",
       "  <thead>\n",
       "    <tr style=\"text-align: right;\">\n",
       "      <th></th>\n",
       "      <th>Year</th>\n",
       "      <th>Sex</th>\n",
       "      <th>Value</th>\n",
       "      <th>Country_All countries</th>\n",
       "      <th>Country_Australia</th>\n",
       "      <th>Country_Canada</th>\n",
       "      <th>Country_EU14 excl Irl</th>\n",
       "      <th>Country_EU15 to EU27</th>\n",
       "      <th>Country_Other countries</th>\n",
       "      <th>Country_United Kingdom</th>\n",
       "      <th>Country_United States</th>\n",
       "      <th>Migration_Emigrants</th>\n",
       "      <th>Migration_Immigrants</th>\n",
       "      <th>Migration_Net migration</th>\n",
       "    </tr>\n",
       "  </thead>\n",
       "  <tbody>\n",
       "    <tr>\n",
       "      <th>0</th>\n",
       "      <td>-1.662525</td>\n",
       "      <td>-1.277077</td>\n",
       "      <td>0.511746</td>\n",
       "      <td>-0.214915</td>\n",
       "      <td>-0.405181</td>\n",
       "      <td>-0.408044</td>\n",
       "      <td>-0.403746</td>\n",
       "      <td>-0.392184</td>\n",
       "      <td>-0.38561</td>\n",
       "      <td>2.628398</td>\n",
       "      <td>-0.408044</td>\n",
       "      <td>-0.724456</td>\n",
       "      <td>1.455673</td>\n",
       "      <td>-0.710064</td>\n",
       "    </tr>\n",
       "    <tr>\n",
       "      <th>1</th>\n",
       "      <td>-1.662525</td>\n",
       "      <td>1.195471</td>\n",
       "      <td>1.613476</td>\n",
       "      <td>-0.214915</td>\n",
       "      <td>-0.405181</td>\n",
       "      <td>-0.408044</td>\n",
       "      <td>-0.403746</td>\n",
       "      <td>-0.392184</td>\n",
       "      <td>-0.38561</td>\n",
       "      <td>2.628398</td>\n",
       "      <td>-0.408044</td>\n",
       "      <td>1.380346</td>\n",
       "      <td>-0.686967</td>\n",
       "      <td>-0.710064</td>\n",
       "    </tr>\n",
       "    <tr>\n",
       "      <th>2</th>\n",
       "      <td>-1.662525</td>\n",
       "      <td>1.195471</td>\n",
       "      <td>-0.369638</td>\n",
       "      <td>-0.214915</td>\n",
       "      <td>-0.405181</td>\n",
       "      <td>-0.408044</td>\n",
       "      <td>-0.403746</td>\n",
       "      <td>-0.392184</td>\n",
       "      <td>-0.38561</td>\n",
       "      <td>2.628398</td>\n",
       "      <td>-0.408044</td>\n",
       "      <td>-0.724456</td>\n",
       "      <td>1.455673</td>\n",
       "      <td>-0.710064</td>\n",
       "    </tr>\n",
       "    <tr>\n",
       "      <th>3</th>\n",
       "      <td>-1.662525</td>\n",
       "      <td>-0.040803</td>\n",
       "      <td>-2.308683</td>\n",
       "      <td>-0.214915</td>\n",
       "      <td>-0.405181</td>\n",
       "      <td>-0.408044</td>\n",
       "      <td>-0.403746</td>\n",
       "      <td>-0.392184</td>\n",
       "      <td>-0.38561</td>\n",
       "      <td>2.628398</td>\n",
       "      <td>-0.408044</td>\n",
       "      <td>-0.724456</td>\n",
       "      <td>-0.686967</td>\n",
       "      <td>1.408324</td>\n",
       "    </tr>\n",
       "    <tr>\n",
       "      <th>4</th>\n",
       "      <td>-1.662525</td>\n",
       "      <td>-0.040803</td>\n",
       "      <td>0.643954</td>\n",
       "      <td>-0.214915</td>\n",
       "      <td>-0.405181</td>\n",
       "      <td>-0.408044</td>\n",
       "      <td>-0.403746</td>\n",
       "      <td>-0.392184</td>\n",
       "      <td>-0.38561</td>\n",
       "      <td>2.628398</td>\n",
       "      <td>-0.408044</td>\n",
       "      <td>1.380346</td>\n",
       "      <td>-0.686967</td>\n",
       "      <td>-0.710064</td>\n",
       "    </tr>\n",
       "  </tbody>\n",
       "</table>\n",
       "</div>"
      ],
      "text/plain": [
       "       Year       Sex     Value  Country_All countries  Country_Australia  \\\n",
       "0 -1.662525 -1.277077  0.511746              -0.214915          -0.405181   \n",
       "1 -1.662525  1.195471  1.613476              -0.214915          -0.405181   \n",
       "2 -1.662525  1.195471 -0.369638              -0.214915          -0.405181   \n",
       "3 -1.662525 -0.040803 -2.308683              -0.214915          -0.405181   \n",
       "4 -1.662525 -0.040803  0.643954              -0.214915          -0.405181   \n",
       "\n",
       "   Country_Canada  Country_EU14 excl Irl  Country_EU15 to EU27  \\\n",
       "0       -0.408044              -0.403746             -0.392184   \n",
       "1       -0.408044              -0.403746             -0.392184   \n",
       "2       -0.408044              -0.403746             -0.392184   \n",
       "3       -0.408044              -0.403746             -0.392184   \n",
       "4       -0.408044              -0.403746             -0.392184   \n",
       "\n",
       "   Country_Other countries  Country_United Kingdom  Country_United States  \\\n",
       "0                 -0.38561                2.628398              -0.408044   \n",
       "1                 -0.38561                2.628398              -0.408044   \n",
       "2                 -0.38561                2.628398              -0.408044   \n",
       "3                 -0.38561                2.628398              -0.408044   \n",
       "4                 -0.38561                2.628398              -0.408044   \n",
       "\n",
       "   Migration_Emigrants  Migration_Immigrants  Migration_Net migration  \n",
       "0            -0.724456              1.455673                -0.710064  \n",
       "1             1.380346             -0.686967                -0.710064  \n",
       "2            -0.724456              1.455673                -0.710064  \n",
       "3            -0.724456             -0.686967                 1.408324  \n",
       "4             1.380346             -0.686967                -0.710064  "
      ]
     },
     "execution_count": 91,
     "metadata": {},
     "output_type": "execute_result"
    }
   ],
   "source": [
    "df_scale.head()"
   ]
  },
  {
   "cell_type": "code",
   "execution_count": 94,
   "id": "ca082dfa",
   "metadata": {
    "tags": []
   },
   "outputs": [],
   "source": [
    "y = c_k_df['Value']\n",
    "X = df_scale.drop(['Value'],axis=1)"
   ]
  },
  {
   "cell_type": "code",
   "execution_count": 95,
   "id": "1d49a41e",
   "metadata": {
    "tags": []
   },
   "outputs": [],
   "source": [
    "X_train, X_test, Y_train, Y_test = train_test_split(X, y, test_size=0.2, random_state= 42)\n"
   ]
  },
  {
   "cell_type": "code",
   "execution_count": 96,
   "id": "66e7478c",
   "metadata": {
    "tags": []
   },
   "outputs": [
    {
     "name": "stdout",
     "output_type": "stream",
     "text": [
      "(1866, 13)\n",
      "(467, 13)\n",
      "(1866,)\n",
      "(467,)\n"
     ]
    }
   ],
   "source": [
    "print(X_train.shape)\n",
    "print(X_test.shape)\n",
    "print(Y_train.shape)\n",
    "print(Y_test.shape)"
   ]
  },
  {
   "cell_type": "code",
   "execution_count": 97,
   "id": "28f4fbd0",
   "metadata": {
    "tags": []
   },
   "outputs": [
    {
     "data": {
      "text/html": [
       "<style>#sk-container-id-1 {color: black;}#sk-container-id-1 pre{padding: 0;}#sk-container-id-1 div.sk-toggleable {background-color: white;}#sk-container-id-1 label.sk-toggleable__label {cursor: pointer;display: block;width: 100%;margin-bottom: 0;padding: 0.3em;box-sizing: border-box;text-align: center;}#sk-container-id-1 label.sk-toggleable__label-arrow:before {content: \"▸\";float: left;margin-right: 0.25em;color: #696969;}#sk-container-id-1 label.sk-toggleable__label-arrow:hover:before {color: black;}#sk-container-id-1 div.sk-estimator:hover label.sk-toggleable__label-arrow:before {color: black;}#sk-container-id-1 div.sk-toggleable__content {max-height: 0;max-width: 0;overflow: hidden;text-align: left;background-color: #f0f8ff;}#sk-container-id-1 div.sk-toggleable__content pre {margin: 0.2em;color: black;border-radius: 0.25em;background-color: #f0f8ff;}#sk-container-id-1 input.sk-toggleable__control:checked~div.sk-toggleable__content {max-height: 200px;max-width: 100%;overflow: auto;}#sk-container-id-1 input.sk-toggleable__control:checked~label.sk-toggleable__label-arrow:before {content: \"▾\";}#sk-container-id-1 div.sk-estimator input.sk-toggleable__control:checked~label.sk-toggleable__label {background-color: #d4ebff;}#sk-container-id-1 div.sk-label input.sk-toggleable__control:checked~label.sk-toggleable__label {background-color: #d4ebff;}#sk-container-id-1 input.sk-hidden--visually {border: 0;clip: rect(1px 1px 1px 1px);clip: rect(1px, 1px, 1px, 1px);height: 1px;margin: -1px;overflow: hidden;padding: 0;position: absolute;width: 1px;}#sk-container-id-1 div.sk-estimator {font-family: monospace;background-color: #f0f8ff;border: 1px dotted black;border-radius: 0.25em;box-sizing: border-box;margin-bottom: 0.5em;}#sk-container-id-1 div.sk-estimator:hover {background-color: #d4ebff;}#sk-container-id-1 div.sk-parallel-item::after {content: \"\";width: 100%;border-bottom: 1px solid gray;flex-grow: 1;}#sk-container-id-1 div.sk-label:hover label.sk-toggleable__label {background-color: #d4ebff;}#sk-container-id-1 div.sk-serial::before {content: \"\";position: absolute;border-left: 1px solid gray;box-sizing: border-box;top: 0;bottom: 0;left: 50%;z-index: 0;}#sk-container-id-1 div.sk-serial {display: flex;flex-direction: column;align-items: center;background-color: white;padding-right: 0.2em;padding-left: 0.2em;position: relative;}#sk-container-id-1 div.sk-item {position: relative;z-index: 1;}#sk-container-id-1 div.sk-parallel {display: flex;align-items: stretch;justify-content: center;background-color: white;position: relative;}#sk-container-id-1 div.sk-item::before, #sk-container-id-1 div.sk-parallel-item::before {content: \"\";position: absolute;border-left: 1px solid gray;box-sizing: border-box;top: 0;bottom: 0;left: 50%;z-index: -1;}#sk-container-id-1 div.sk-parallel-item {display: flex;flex-direction: column;z-index: 1;position: relative;background-color: white;}#sk-container-id-1 div.sk-parallel-item:first-child::after {align-self: flex-end;width: 50%;}#sk-container-id-1 div.sk-parallel-item:last-child::after {align-self: flex-start;width: 50%;}#sk-container-id-1 div.sk-parallel-item:only-child::after {width: 0;}#sk-container-id-1 div.sk-dashed-wrapped {border: 1px dashed gray;margin: 0 0.4em 0.5em 0.4em;box-sizing: border-box;padding-bottom: 0.4em;background-color: white;}#sk-container-id-1 div.sk-label label {font-family: monospace;font-weight: bold;display: inline-block;line-height: 1.2em;}#sk-container-id-1 div.sk-label-container {text-align: center;}#sk-container-id-1 div.sk-container {/* jupyter's `normalize.less` sets `[hidden] { display: none; }` but bootstrap.min.css set `[hidden] { display: none !important; }` so we also need the `!important` here to be able to override the default hidden behavior on the sphinx rendered scikit-learn.org. See: https://github.com/scikit-learn/scikit-learn/issues/21755 */display: inline-block !important;position: relative;}#sk-container-id-1 div.sk-text-repr-fallback {display: none;}</style><div id=\"sk-container-id-1\" class=\"sk-top-container\"><div class=\"sk-text-repr-fallback\"><pre>LinearRegression()</pre><b>In a Jupyter environment, please rerun this cell to show the HTML representation or trust the notebook. <br />On GitHub, the HTML representation is unable to render, please try loading this page with nbviewer.org.</b></div><div class=\"sk-container\" hidden><div class=\"sk-item\"><div class=\"sk-estimator sk-toggleable\"><input class=\"sk-toggleable__control sk-hidden--visually\" id=\"sk-estimator-id-1\" type=\"checkbox\" checked><label for=\"sk-estimator-id-1\" class=\"sk-toggleable__label sk-toggleable__label-arrow\">LinearRegression</label><div class=\"sk-toggleable__content\"><pre>LinearRegression()</pre></div></div></div></div></div>"
      ],
      "text/plain": [
       "LinearRegression()"
      ]
     },
     "execution_count": 97,
     "metadata": {},
     "output_type": "execute_result"
    }
   ],
   "source": [
    "lrm = LinearRegression()\n",
    "lrm.fit(X_train, Y_train) #fit an OLS model\n"
   ]
  },
  {
   "cell_type": "code",
   "execution_count": 98,
   "id": "6693087a",
   "metadata": {
    "tags": []
   },
   "outputs": [],
   "source": [
    "y_preds_train = lrm.predict(X_train)\n",
    "y_preds_test = lrm.predict(X_test)  #making predictions"
   ]
  },
  {
   "cell_type": "code",
   "execution_count": 99,
   "id": "0c77ac82",
   "metadata": {
    "tags": []
   },
   "outputs": [
    {
     "name": "stdout",
     "output_type": "stream",
     "text": [
      "R-squared of the model in training set is: 0.3569880900679392\n",
      "-----Test set statistics-----\n",
      "R-squared of the model in test set is: 0.28578254283144955\n",
      "Root mean squared error of the prediction is: 3.706059562427488\n",
      "Mean absolute percentage error of the prediction is: inf\n"
     ]
    }
   ],
   "source": [
    "from statsmodels.tools.eval_measures import mse, rmse\n",
    "from sklearn import preprocessing\n",
    "\n",
    "print(\"R-squared of the model in training set is: {}\".format(lrm.score(X_train, Y_train)))\n",
    "print(\"-----Test set statistics-----\")\n",
    "print(\"R-squared of the model in test set is: {}\".format(lrm.score(X_test, Y_test)))\n",
    "print(\"Root mean squared error of the prediction is: {}\".format(rmse(Y_test, y_preds_test)))\n",
    "print(\"Mean absolute percentage error of the prediction is: {}\".format(np.mean(np.abs((Y_test - y_preds_test) / Y_test)) * 100))"
   ]
  },
  {
   "cell_type": "code",
   "execution_count": 100,
   "id": "17f19725",
   "metadata": {
    "tags": []
   },
   "outputs": [
    {
     "data": {
      "text/html": [
       "<style>#sk-container-id-2 {color: black;}#sk-container-id-2 pre{padding: 0;}#sk-container-id-2 div.sk-toggleable {background-color: white;}#sk-container-id-2 label.sk-toggleable__label {cursor: pointer;display: block;width: 100%;margin-bottom: 0;padding: 0.3em;box-sizing: border-box;text-align: center;}#sk-container-id-2 label.sk-toggleable__label-arrow:before {content: \"▸\";float: left;margin-right: 0.25em;color: #696969;}#sk-container-id-2 label.sk-toggleable__label-arrow:hover:before {color: black;}#sk-container-id-2 div.sk-estimator:hover label.sk-toggleable__label-arrow:before {color: black;}#sk-container-id-2 div.sk-toggleable__content {max-height: 0;max-width: 0;overflow: hidden;text-align: left;background-color: #f0f8ff;}#sk-container-id-2 div.sk-toggleable__content pre {margin: 0.2em;color: black;border-radius: 0.25em;background-color: #f0f8ff;}#sk-container-id-2 input.sk-toggleable__control:checked~div.sk-toggleable__content {max-height: 200px;max-width: 100%;overflow: auto;}#sk-container-id-2 input.sk-toggleable__control:checked~label.sk-toggleable__label-arrow:before {content: \"▾\";}#sk-container-id-2 div.sk-estimator input.sk-toggleable__control:checked~label.sk-toggleable__label {background-color: #d4ebff;}#sk-container-id-2 div.sk-label input.sk-toggleable__control:checked~label.sk-toggleable__label {background-color: #d4ebff;}#sk-container-id-2 input.sk-hidden--visually {border: 0;clip: rect(1px 1px 1px 1px);clip: rect(1px, 1px, 1px, 1px);height: 1px;margin: -1px;overflow: hidden;padding: 0;position: absolute;width: 1px;}#sk-container-id-2 div.sk-estimator {font-family: monospace;background-color: #f0f8ff;border: 1px dotted black;border-radius: 0.25em;box-sizing: border-box;margin-bottom: 0.5em;}#sk-container-id-2 div.sk-estimator:hover {background-color: #d4ebff;}#sk-container-id-2 div.sk-parallel-item::after {content: \"\";width: 100%;border-bottom: 1px solid gray;flex-grow: 1;}#sk-container-id-2 div.sk-label:hover label.sk-toggleable__label {background-color: #d4ebff;}#sk-container-id-2 div.sk-serial::before {content: \"\";position: absolute;border-left: 1px solid gray;box-sizing: border-box;top: 0;bottom: 0;left: 50%;z-index: 0;}#sk-container-id-2 div.sk-serial {display: flex;flex-direction: column;align-items: center;background-color: white;padding-right: 0.2em;padding-left: 0.2em;position: relative;}#sk-container-id-2 div.sk-item {position: relative;z-index: 1;}#sk-container-id-2 div.sk-parallel {display: flex;align-items: stretch;justify-content: center;background-color: white;position: relative;}#sk-container-id-2 div.sk-item::before, #sk-container-id-2 div.sk-parallel-item::before {content: \"\";position: absolute;border-left: 1px solid gray;box-sizing: border-box;top: 0;bottom: 0;left: 50%;z-index: -1;}#sk-container-id-2 div.sk-parallel-item {display: flex;flex-direction: column;z-index: 1;position: relative;background-color: white;}#sk-container-id-2 div.sk-parallel-item:first-child::after {align-self: flex-end;width: 50%;}#sk-container-id-2 div.sk-parallel-item:last-child::after {align-self: flex-start;width: 50%;}#sk-container-id-2 div.sk-parallel-item:only-child::after {width: 0;}#sk-container-id-2 div.sk-dashed-wrapped {border: 1px dashed gray;margin: 0 0.4em 0.5em 0.4em;box-sizing: border-box;padding-bottom: 0.4em;background-color: white;}#sk-container-id-2 div.sk-label label {font-family: monospace;font-weight: bold;display: inline-block;line-height: 1.2em;}#sk-container-id-2 div.sk-label-container {text-align: center;}#sk-container-id-2 div.sk-container {/* jupyter's `normalize.less` sets `[hidden] { display: none; }` but bootstrap.min.css set `[hidden] { display: none !important; }` so we also need the `!important` here to be able to override the default hidden behavior on the sphinx rendered scikit-learn.org. See: https://github.com/scikit-learn/scikit-learn/issues/21755 */display: inline-block !important;position: relative;}#sk-container-id-2 div.sk-text-repr-fallback {display: none;}</style><div id=\"sk-container-id-2\" class=\"sk-top-container\"><div class=\"sk-text-repr-fallback\"><pre>RandomForestRegressor(random_state=0)</pre><b>In a Jupyter environment, please rerun this cell to show the HTML representation or trust the notebook. <br />On GitHub, the HTML representation is unable to render, please try loading this page with nbviewer.org.</b></div><div class=\"sk-container\" hidden><div class=\"sk-item\"><div class=\"sk-estimator sk-toggleable\"><input class=\"sk-toggleable__control sk-hidden--visually\" id=\"sk-estimator-id-2\" type=\"checkbox\" checked><label for=\"sk-estimator-id-2\" class=\"sk-toggleable__label sk-toggleable__label-arrow\">RandomForestRegressor</label><div class=\"sk-toggleable__content\"><pre>RandomForestRegressor(random_state=0)</pre></div></div></div></div></div>"
      ],
      "text/plain": [
       "RandomForestRegressor(random_state=0)"
      ]
     },
     "execution_count": 100,
     "metadata": {},
     "output_type": "execute_result"
    }
   ],
   "source": [
    "from sklearn.linear_model import LinearRegression,Ridge,Lasso\n",
    "from sklearn.ensemble import RandomForestRegressor\n",
    "regressor = RandomForestRegressor(n_estimators = 100, random_state = 0)\n",
    "regressor.fit(X_train, Y_train)"
   ]
  },
  {
   "cell_type": "code",
   "execution_count": 101,
   "id": "19af5a22",
   "metadata": {
    "tags": []
   },
   "outputs": [],
   "source": [
    "y_pred_random = regressor.predict(X_test)"
   ]
  },
  {
   "cell_type": "code",
   "execution_count": 102,
   "id": "70669e3b",
   "metadata": {
    "tags": []
   },
   "outputs": [
    {
     "name": "stdout",
     "output_type": "stream",
     "text": [
      "R-squared of the model in training set is: 0.9796887742017196\n",
      "-----Test set statistics-----\n",
      "R-squared of the model in test set is: 0.8389306349213999\n",
      "Root mean squared error of the prediction is: 1.759963405154859\n",
      "Mean absolute percentage error of the prediction is: inf\n"
     ]
    }
   ],
   "source": [
    "\n",
    "print(\"R-squared of the model in training set is: {}\".format(regressor.score(X_train, Y_train)))\n",
    "print(\"-----Test set statistics-----\")\n",
    "print(\"R-squared of the model in test set is: {}\".format(regressor.score(X_test, Y_test)))\n",
    "print(\"Root mean squared error of the prediction is: {}\".format(mse(Y_test, y_pred_random)**(1/2)))\n",
    "print(\"Mean absolute percentage error of the prediction is: {}\".format(np.mean(np.abs((Y_test - y_pred_random) / Y_test)) * 100))"
   ]
  },
  {
   "cell_type": "code",
   "execution_count": 103,
   "id": "80840ba4",
   "metadata": {
    "tags": []
   },
   "outputs": [
    {
     "data": {
      "text/plain": [
       "<function matplotlib.pyplot.legend(*args, **kwargs)>"
      ]
     },
     "execution_count": 103,
     "metadata": {},
     "output_type": "execute_result"
    },
    {
     "data": {
      "image/png": "[encoded data removed]",
      "text/plain": [
       "<Figure size 1000x600 with 1 Axes>"
      ]
     },
     "metadata": {},
     "output_type": "display_data"
    }
   ],
   "source": [
    "import numpy as np\n",
    "import matplotlib.pyplot as plt\n",
    "from sklearn.model_selection import learning_curve\n",
    "\n",
    "# Set up the learning curve parameters\n",
    "train_sizes, train_scores, test_scores = learning_curve(lrm, X, y, cv=5, train_sizes=np.linspace(0.1, 1.0, 10))\n",
    "\n",
    "# Calculate mean and standard deviation for training scores\n",
    "train_scores_mean = np.mean(train_scores, axis=1)\n",
    "train_scores_std = np.std(train_scores, axis=1)\n",
    "\n",
    "# Calculate mean and standard deviation for test scores\n",
    "test_scores_mean = np.mean(test_scores, axis=1)\n",
    "test_scores_std = np.std(test_scores, axis=1)\n",
    "\n",
    "# Plot the learning curve\n",
    "plt.figure(figsize=(10, 6))\n",
    "plt.title('Learning Curve')\n",
    "plt.xlabel(\"Training examples\")\n",
    "plt.ylabel(\"Score\")\n",
    "plt.grid()\n",
    "\n",
    "plt.fill_between(train_sizes, train_scores_mean - train_scores_std, train_scores_mean + train_scores_std, alpha=0.1, color=\"r\")\n",
    "plt.fill_between(train_sizes, test_scores_mean - test_scores_std, test_scores_mean + test_scores_std, alpha=0.1, color=\"g\")\n",
    "plt.plot(train_sizes, train_scores_mean, 'o-', color=\"r\", label=\"Training score\")\n",
    "plt.plot(train_sizes, test_scores_mean, 'o-', color=\"g\", label=\"Cross-validation score\")\n",
    "\n",
    "plt.legend\n"
   ]
  },
  {
   "cell_type": "code",
   "execution_count": null,
   "id": "8a1408b2",
   "metadata": {},
   "outputs": [],
   "source": []
  }
 ],
 "metadata": {
  "kernelspec": {
   "display_name": "Python 3 (ipykernel)",
   "language": "python",
   "name": "python3"
  },
  "language_info": {
   "codemirror_mode": {
    "name": "ipython",
    "version": 3
   },
   "file_extension": ".py",
   "mimetype": "text/x-python",
   "name": "python",
   "nbconvert_exporter": "python",
   "pygments_lexer": "ipython3",
   "version": "3.11.4"
  }
 },
 "nbformat": 4,
 "nbformat_minor": 5
}
